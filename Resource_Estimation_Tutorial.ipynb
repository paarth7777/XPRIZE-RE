{
 "cells": [
  {
   "cell_type": "code",
   "execution_count": 39,
   "id": "b6678fdb",
   "metadata": {},
   "outputs": [],
   "source": [
    "import numpy as np\n",
    "import pickle\n",
    "import math\n",
    "from pennylane.labs import resource_estimation as re\n",
    "from utils import *\n",
    "from pennylane.labs.trotter_error import vibronic_fragments"
   ]
  },
  {
   "cell_type": "markdown",
   "id": "f61bd3d9",
   "metadata": {},
   "source": [
    "# Resource Estimation for Quantum Algorithm for Vibronic Dynamics"
   ]
  },
  {
   "cell_type": "markdown",
   "id": "54bf2ddf",
   "metadata": {},
   "source": [
    "The following cells define the quantum circuits that implement the different parts of the vibronic Hamiltonian:"
   ]
  },
  {
   "cell_type": "markdown",
   "id": "3bd74b6b",
   "metadata": {},
   "source": [
    "#### Circuit for implementing linear ($Q_r$) terms:\n",
    "\n",
    "This circuit, `Q_cir`, is designed to implement the potential energy terms that are linear in the position operator, $Q_r$. The core logic involves loading coefficients from a QROM and then using a controlled-addition operation to apply a phase proportional to the mode's value onto a phase gradient register. The circuit uncomputes the loaded coefficients at the end to free the ancilla qubits."
   ]
  },
  {
   "cell_type": "code",
   "execution_count": 3,
   "id": "82e538f1",
   "metadata": {},
   "outputs": [],
   "source": [
    "def Q_cir(b, N, k, phase_grad_wires, electronic_wires, coeff_wires, total_mode_wires, mode_wires, scratch_wires):\n",
    "    re.ResourceQROM(num_bitstrings=N, size_bitstring=b, clean=False, wires=electronic_wires + coeff_wires)\n",
    "\n",
    "    for i in range(k):\n",
    "        ctrl_wire = [mode_wires[i]]\n",
    "        target_wires = coeff_wires[:b-i] + phase_grad_wires[:b-i]\n",
    "        re.ResourceControlled(re.ResourceSemiAdder(max_register_size=b - i), num_ctrl_wires=1, num_ctrl_values=0, wires=target_wires+ctrl_wire)\n",
    "\n",
    "    re.ResourceAdjoint(re.ResourceQROM(num_bitstrings=N, size_bitstring=b, clean=False, wires=electronic_wires + coeff_wires))\n",
    "     \n",
    "    re.ResourceIdentity(wires = scratch_wires + total_mode_wires[k:])"
   ]
  },
  {
   "cell_type": "markdown",
   "id": "c1a26a08",
   "metadata": {},
   "source": [
    "#### Circuit for implementing quadratic ($Q_r^2$) terms:\n",
    "\n",
    "The `Qsquared_cir` function implements the potential energy terms that are quadratic in the displacement operator, $Q_r^2$. Similar to the linear case, it begins by loading coefficients from a QROM. However, it then uses an `OutOfPlaceSquare` routine to compute the square of the mode register's value into a separate scratch register. This squared value is then used to control the phase addition. Finally, the circuit uncomputes the squared value and the loaded coefficients."
   ]
  },
  {
   "cell_type": "code",
   "execution_count": 4,
   "id": "7af58b0e",
   "metadata": {},
   "outputs": [],
   "source": [
    "def Qsquared_cir(b, N, k, phase_grad_wires, electronic_wires, coeff_wires, total_mode_wires, mode_wires, scratch_wires):\n",
    "    re.ResourceQROM(num_bitstrings=N, size_bitstring=b, clean=False, wires=electronic_wires + coeff_wires)\n",
    "\n",
    "    re.ResourceOutOfPlaceSquare(register_size=k, wires=scratch_wires+mode_wires)\n",
    "\n",
    "    for i in range(2*k):\n",
    "        ctrl_wire = [f\"s_{i}\"]\n",
    "        target_wires = coeff_wires[:b-i] + phase_grad_wires[:b-i]\n",
    "        re.ResourceControlled(re.ResourceSemiAdder(max_register_size=b - i), num_ctrl_wires=1, num_ctrl_values=0, wires=target_wires + ctrl_wire)\n",
    "\n",
    "    re.ResourceAdjoint(re.ResourceOutOfPlaceSquare(register_size=k, wires=scratch_wires+mode_wires))\n",
    "\n",
    "    re.ResourceAdjoint(re.ResourceQROM(num_bitstrings=N, size_bitstring=b, clean=False, wires=electronic_wires + coeff_wires))\n",
    "\n",
    "    re.ResourceIdentity(wires = total_mode_wires[k:])"
   ]
  },
  {
   "cell_type": "markdown",
   "id": "74393265",
   "metadata": {},
   "source": [
    "#### Circuit for implementing Bilinear ($Q_r Q_s$) terms:\n",
    "\n",
    "This circuit, `QrQs_cir`, handles the potential energy terms that involve the product of two distinct vibrational mode operators, $Q_r Q_s$. It uses an `OutMultiplier` circuit to compute the product of two different mode registers into a scratch register. This product then controls the phase addition operation, simulating the evolution for the bilinear term. The circuit concludes by uncomputing the product and the coefficients loaded from the QROM."
   ]
  },
  {
   "cell_type": "code",
   "execution_count": 5,
   "id": "638a952d",
   "metadata": {},
   "outputs": [],
   "source": [
    "def QrQs_cir(b, N, k, phase_grad_wires, electronic_wires, coeff_wires, total_mode_wires, mode_wires, mode2_wires, scratch_wires):\n",
    "    re.ResourceQROM(num_bitstrings=N, size_bitstring=b, clean=False, wires=electronic_wires + coeff_wires)\n",
    "\n",
    "    re.ResourceOutMultiplier(a_num_qubits=k, b_num_qubits=k, wires=scratch_wires+mode_wires+mode2_wires)\n",
    "\n",
    "    for i in range(2*k):\n",
    "        ctrl_wire = [f\"s_{i}\"]\n",
    "        target_wires = coeff_wires[:b-i] + phase_grad_wires[:b-i]\n",
    "        re.ResourceControlled(re.ResourceSemiAdder(max_register_size=b - i), num_ctrl_wires=1, num_ctrl_values=0, wires=target_wires + ctrl_wire)\n",
    "\n",
    "    re.ResourceAdjoint(re.ResourceOutMultiplier(a_num_qubits=k, b_num_qubits=k, wires=scratch_wires+mode_wires+mode2_wires))\n",
    "\n",
    "    re.ResourceAdjoint(re.ResourceQROM(num_bitstrings=N, size_bitstring=b, clean=False, wires=electronic_wires + coeff_wires))\n",
    "\n",
    "    re.ResourceIdentity(wires = total_mode_wires[2*k:])"
   ]
  },
  {
   "cell_type": "markdown",
   "id": "667fa005",
   "metadata": {},
   "source": [
    "#### Changing the default resource decomposition for QFT:\n",
    "\n",
    "By default, PennyLane's resource estimation module uses a textbook implementation of the Quantum Fourier Transform (QFT). Here, we replace it with a more resource-efficient decomposition based on the methods presented in the paper at `https://arxiv.org/abs/1803.04933v2`. The `AQFT_resource_decomp` function calculates the Toffoli gate and auxiliary qubit counts based on the improved algorithm. We then use the `set_resources` method to make this efficient QFT implementation the new default for all subsequent resource estimations within this notebook."
   ]
  },
  {
   "cell_type": "code",
   "execution_count": 6,
   "id": "6edc539e",
   "metadata": {},
   "outputs": [],
   "source": [
    "def AQFT_resource_decomp(num_wires, **kwargs):\n",
    "    ceil_log_n = math.ceil(math.log2(num_wires))\n",
    "    aux_qubit_count = num_wires + 3*ceil_log_n - 4\n",
    "    \n",
    "    toff = re.ResourceToffoli.resource_rep()\n",
    "    toff_count = 2 * num_wires*(ceil_log_n - 1)\n",
    "\n",
    "    gate_list = [\n",
    "        re.AllocWires(aux_qubit_count),\n",
    "        re.GateCount(toff, toff_count),\n",
    "        re.FreeWires(aux_qubit_count),\n",
    "    ]\n",
    "    return gate_list\n",
    "\n",
    "re.ResourceQFT.set_resources(AQFT_resource_decomp)\n",
    "# re.ResourceQFT.set_resources(re.ResourceQFT.default_resource_decomp)  # reset to default QFT cost"
   ]
  },
  {
   "cell_type": "markdown",
   "id": "ddc975f1",
   "metadata": {},
   "source": [
    "#### Circuit for applying a Unitary rotation on the electronic subspace:\n",
    "\n",
    "This block defines the `digonalizing_circuit`, which represents a general unitary transformation applied to the electronic state qubits. The cost is estimated using the `ResourceQubitUnitary` block, which models the synthesis of an arbitrary unitary operation to a given precision."
   ]
  },
  {
   "cell_type": "code",
   "execution_count": 7,
   "id": "22996050",
   "metadata": {},
   "outputs": [],
   "source": [
    "re.ResourceMultiplexer.set_resources(re.ResourceMultiplexer.phase_grad_resource_decomp)\n",
    "\n",
    "def digonalizing_circuit(log_N, electronic_wires):\n",
    "    re.ResourceQubitUnitary(num_wires=log_N, precision=1e-6, wires=electronic_wires)"
   ]
  },
  {
   "cell_type": "markdown",
   "id": "deb0838e",
   "metadata": {},
   "source": [
    "##### Circuit for Implementing the Kinetic Fragment\n",
    "\n",
    "This circuit, `kinetic_cir`, implements the kinetic energy portion of the Hamiltonian, which involves momentum operators squared ($P_r^2$). Since the momentum operator is diagonal in the momentum basis, the circuit first uses a Quantum Fourier Transform (QFT) to each vibrational mode register to switch from the position basis to the momentum basis.\n",
    "\n",
    "Once in the momentum basis, the circuit squares the value in each mode register, similar to the implementation of the $Q_r^2$ terms. This squared momentum value then controls a phase addition to simulate the kinetic evolution. Finally, an inverse QFT transforms the registers back to the position basis, completing the operation."
   ]
  },
  {
   "cell_type": "code",
   "execution_count": 8,
   "id": "f991bc87",
   "metadata": {},
   "outputs": [],
   "source": [
    "def kinetic_cir(b, M, k, phase_grad_wires, electronic_wires, coeff_wires, total_mode_wires, mode_wires, scratch_wires):\n",
    "    for i in range(M):\n",
    "        re.ResourceQFT(num_wires=k, wires=total_mode_wires[i*k: k*(i + 1)])\n",
    "\n",
    "    for i in range(M):\n",
    "        mode_wires = total_mode_wires[i*k: k*(i + 1)]\n",
    "        re.ResourceOutOfPlaceSquare(register_size=k, wires=mode_wires+scratch_wires)\n",
    "\n",
    "        for j in range(2*k):\n",
    "            ctrl_wire = [f\"s_{j}\"]\n",
    "            target_wires = coeff_wires[:b-j] + phase_grad_wires[:b-j]\n",
    "            re.ResourceControlled(re.ResourceSemiAdder(max_register_size=b - j), num_ctrl_wires=1, num_ctrl_values=0, wires=target_wires + ctrl_wire)\n",
    "\n",
    "        re.ResourceAdjoint(re.ResourceOutOfPlaceSquare(register_size=k, wires=mode_wires+scratch_wires))\n",
    "\n",
    "    for i in range(M):\n",
    "        re.ResourceAdjoint(re.ResourceQFT(num_wires=k), wires=total_mode_wires[i*k: k*(i + 1)])\n",
    "\n",
    "    re.ResourceIdentity(wires=electronic_wires)"
   ]
  },
  {
   "cell_type": "markdown",
   "id": "09e3abee",
   "metadata": {},
   "source": [
    "## Resource Estimation for Systems of Interest"
   ]
  },
  {
   "cell_type": "markdown",
   "id": "5ef7ffbb",
   "metadata": {},
   "source": [
    "#### Loading the Hamiltonian:\n",
    "\n",
    "This code cell loads the Hamiltonian parameters for the molecule of interest. These parameters include the vibrational mode frequencies (`omegas`) and the various coupling strengths (`lambdas`, `alphas`, `betas`) that define the interactions between electronic states and vibrational modes. The script extracts the number of electronic states (`N`) and vibrational modes (`M`) and organizes the coupling terms, setting up the specific problem instance for resource estimation."
   ]
  },
  {
   "cell_type": "code",
   "execution_count": null,
   "id": "0c74d1b0",
   "metadata": {},
   "outputs": [],
   "source": [
    "''' \n",
    "Uncomment the molecule that resource estimation should be performed for.\n",
    "'''\n",
    "\n",
    "# mol = 'no4a_monomer' \n",
    "# mol = 'no4a_dimer'            \n",
    "# mol = 'anthra-c60_ct'\n",
    "# mol = 'anthracene_6s_66m'\n",
    "# mol = 'pentacene_16s_102m'\n",
    "mol = 'maleimide_5s_24m_bilin'\n",
    "# mol = 'maleimide_5s_24m_nobilin'\n",
    "\n",
    "k = 4 # Number of Qubits for discretization of each mode\n",
    "b = 20 # Number of Qubit used for the resource state for the phase gradient operation\n",
    "\n",
    "filehandler = open(f'model_params/{mol}.pkl', 'rb')\n",
    "omegas, couplings = pickle.load(filehandler)\n",
    "filehandler.close()\n",
    "\n",
    "QVC = bool(2 in couplings)\n",
    "# Check if the model has contain Quadratic Couplings\n",
    "omegas = np.array(omegas)\n",
    "lambdas = couplings[0]\n",
    "alphas = couplings[1]\n",
    "\n",
    "N, M = alphas.shape[0], alphas.shape[2]\n",
    "log_N = math.ceil(math.log2(N))\n",
    "\n",
    "if QVC:\n",
    "    betas = couplings[2]\n",
    "else:\n",
    "    betas = np.zeros((N, N, M, M))"
   ]
  },
  {
   "cell_type": "markdown",
   "id": "4c7efc28",
   "metadata": {},
   "source": [
    "#### Naming the wires used in the circuits:\n",
    "\n",
    "To maintain clarity and correctly map circuit operations to the appropriate registers, this cell defines names for the different sets of wires (qubits)."
   ]
  },
  {
   "cell_type": "code",
   "execution_count": 10,
   "id": "c980539f",
   "metadata": {},
   "outputs": [],
   "source": [
    "phase_grad_wires = [f\"pg_{i}\" for i in range(b)]\n",
    "electronic_wires = [f\"e_{i}\" for i in range(log_N)]\n",
    "coeff_wires = [f\"c_{i}\" for i in range(b)]\n",
    "total_mode_wires = [f\"m_{i}\" for i in range(k*M)]\n",
    "mode_wires = total_mode_wires[:k]\n",
    "scratch_wires = [f\"s_{i}\" for i in range(2*k)] \n",
    "\n",
    "my_gs = {'X', 'Z', 'Y', 'S', 'Hadamard', 'CNOT', 'RZ', 'Toffoli'}"
   ]
  },
  {
   "cell_type": "markdown",
   "id": "aba3ba36",
   "metadata": {},
   "source": [
    "#### Estimating the cost of implementing linear ($Q_r$) terms for the given system size:"
   ]
  },
  {
   "cell_type": "code",
   "execution_count": 11,
   "id": "15082274",
   "metadata": {},
   "outputs": [
    {
     "name": "stdout",
     "output_type": "stream",
     "text": [
      "Toffoli Count = 146\n"
     ]
    }
   ],
   "source": [
    "res_Q = re.estimate_resources(Q_cir, gate_set=my_gs)(b, N, k, phase_grad_wires, electronic_wires, coeff_wires, total_mode_wires, mode_wires, scratch_wires)\n",
    "print_Toff(res_Q)"
   ]
  },
  {
   "cell_type": "markdown",
   "id": "dc756c39",
   "metadata": {},
   "source": [
    "#### Similarly, estimating the cost of implementing quadratic ($Q_r^2$) terms:"
   ]
  },
  {
   "cell_type": "code",
   "execution_count": 12,
   "id": "a8597baf",
   "metadata": {},
   "outputs": [
    {
     "name": "stdout",
     "output_type": "stream",
     "text": [
      "Toffoli Count = 272\n"
     ]
    }
   ],
   "source": [
    "res_Qsquared = re.estimate_resources(Qsquared_cir, gate_set=my_gs)(b, N, k, phase_grad_wires, electronic_wires, coeff_wires, total_mode_wires, mode_wires, scratch_wires)\n",
    "print_Toff(res_Qsquared)"
   ]
  },
  {
   "cell_type": "markdown",
   "id": "7d3c8c17",
   "metadata": {},
   "source": [
    "#### Next, estimating the cost of implementing bilinear ($Q_r Q_s$) terms:"
   ]
  },
  {
   "cell_type": "code",
   "execution_count": 13,
   "id": "923c1cdd",
   "metadata": {},
   "outputs": [
    {
     "name": "stdout",
     "output_type": "stream",
     "text": [
      "Toffoli Count = 310\n"
     ]
    }
   ],
   "source": [
    "mode2_wires = total_mode_wires[k:2*k]\n",
    "\n",
    "res_QrQs = re.estimate_resources(QrQs_cir, gate_set=my_gs)(b, N, k, phase_grad_wires, electronic_wires, coeff_wires, total_mode_wires, mode_wires, mode2_wires, scratch_wires)\n",
    "print_Toff(res_QrQs)"
   ]
  },
  {
   "cell_type": "markdown",
   "id": "9c14cd4f",
   "metadata": {},
   "source": [
    "### Fragmention of Hamiltonian (OG)\n",
    "\n",
    "This cell uses the \"Original Grouping\" (OG) method to decompose the hamiltonian into fast-forwardable fragments, as described in the Narrative document."
   ]
  },
  {
   "cell_type": "code",
   "execution_count": 14,
   "id": "5b87b3eb",
   "metadata": {},
   "outputs": [
    {
     "name": "stdout",
     "output_type": "stream",
     "text": [
      "Decomposed Hamiltonian into 9 fragments using the Orginal Grouping(OG) method\n"
     ]
    }
   ],
   "source": [
    "fragments_OG = vibronic_fragments(N, M, omegas, [lambdas, alphas, betas])\n",
    "print(f'Decomposed Hamiltonian into {len(fragments_OG)} fragments using the Orginal Grouping(OG) method')"
   ]
  },
  {
   "cell_type": "markdown",
   "id": "881e0f32",
   "metadata": {},
   "source": [
    "#### Estimating the cost of implementing the kinetic fragment:"
   ]
  },
  {
   "cell_type": "code",
   "execution_count": 15,
   "id": "0a629fa7",
   "metadata": {},
   "outputs": [
    {
     "name": "stdout",
     "output_type": "stream",
     "text": [
      "Qubit Count = 166\n",
      "Toffoli Count = 6768\n"
     ]
    }
   ],
   "source": [
    "res_kinetic = re.estimate_resources(kinetic_cir, gate_set=my_gs)(b, M, k, phase_grad_wires, electronic_wires, coeff_wires, total_mode_wires, mode_wires, scratch_wires)\n",
    "\n",
    "Qubit_count = res_kinetic.qubit_manager.total_qubits\n",
    "print_Qubit_Toff(res_kinetic)"
   ]
  },
  {
   "cell_type": "markdown",
   "id": "2ec507b7",
   "metadata": {},
   "source": [
    "#### Counting Terms in Each Fragment\n",
    "\n",
    "To calculate the total cost of simulating a potential energy fragment, we must first determine its composition. The `count_nonzero_Q_terms` utility function is used for this purpose; it inspects a given fragment and returns the number of linear ($Q_r$), quadratic ($Q_r^2$), and bilinear ($Q_r Q_s$) terms it contains. The subsequent loop then computes the total cost for each fragment by summing the costs of its constituent parts, using the pre-calculated resource estimates for `res_Q`, `res_Qsquared`, and `res_QrQs`."
   ]
  },
  {
   "cell_type": "code",
   "execution_count": 16,
   "id": "3f4a1566",
   "metadata": {},
   "outputs": [],
   "source": [
    "res_list_OG = [res_kinetic]\n",
    "\n",
    "for i in range(len(fragments_OG)-1):\n",
    "    num_Qr, num_Qr2, num_QrQs = count_nonzero_Q_terms(fragments_OG[i])\n",
    "    res_frag = num_Qr * res_Q + num_Qr2 * res_Qsquared + num_QrQs * res_QrQs\n",
    "    res_list_OG.append(res_frag)"
   ]
  },
  {
   "cell_type": "markdown",
   "id": "611d6100",
   "metadata": {},
   "source": [
    "#### Single Trotter Step Cost (OG)\n",
    "\n",
    "This section calculates the total resource cost for a single step of the simulation using a second-order Trotter product formula. For efficiency, the two most expensive fragments (those with the highest Toffoli count) are applied once per step, while all other, less costly fragments are applied twice. The code implements this logic to sum the fragment costs and arrive at the total cost for one Trotter step."
   ]
  },
  {
   "cell_type": "code",
   "execution_count": 17,
   "id": "6f350f59",
   "metadata": {},
   "outputs": [
    {
     "name": "stdout",
     "output_type": "stream",
     "text": [
      "Qubit Count = 166\n",
      "Toffoli Count = 3.158E+04\n"
     ]
    }
   ],
   "source": [
    "res_expensive_frags = sorted(res_list_OG, key=lambda res_frag: res_frag.clean_gate_counts.get(\"Toffoli\", 0),reverse=True)[:2]\n",
    "step_OG_res = res_expensive_frags[0] + res_expensive_frags[1] \n",
    "\n",
    "for res in res_list_OG:\n",
    "    if res not in res_expensive_frags:\n",
    "        step_OG_res += res * 2\n",
    "\n",
    "print_Qubit_Toff(step_OG_res)"
   ]
  },
  {
   "cell_type": "markdown",
   "id": "8effc7c5",
   "metadata": {},
   "source": [
    "### Fragmentation of Hamiltonian (Mode Based)\n",
    "\n",
    "This section decomposes the Hamiltonian based on the \"mode-based\" fragmentation method described in the Narrative Document."
   ]
  },
  {
   "cell_type": "code",
   "execution_count": 18,
   "id": "3e228f86",
   "metadata": {},
   "outputs": [
    {
     "name": "stdout",
     "output_type": "stream",
     "text": [
      "Decomposed Hamiltonian into 22 fragments using the mode based fragmentation method\n"
     ]
    }
   ],
   "source": [
    "fragments_mode = vibronic_fragments_modebased(N, M, omegas, [lambdas, alphas, betas], 'FC')\n",
    "\n",
    "num_frags_mode = len(fragments_mode)\n",
    "print(f'Decomposed Hamiltonian into {num_frags_mode} fragments using the mode based fragmentation method')"
   ]
  },
  {
   "cell_type": "markdown",
   "id": "4b946ad0",
   "metadata": {},
   "source": [
    "#### Summing up Cost of Each Fragment \n",
    "\n",
    "Similar to the OG section, counting position operator product terms in each fragment and summing up the cost of each fragment."
   ]
  },
  {
   "cell_type": "code",
   "execution_count": 19,
   "id": "119b73a8",
   "metadata": {},
   "outputs": [],
   "source": [
    "res_list_mode = [res_kinetic]\n",
    "\n",
    "for i in range(len(fragments_mode)-1):\n",
    "    num_Qr, num_Qr2, num_QrQs = count_nonzero_Q_terms(fragments_mode[i])\n",
    "    res_frag = num_Qr * res_Q + num_Qr2 * res_Qsquared + num_QrQs * res_QrQs\n",
    "    res_list_mode.append(res_frag)\n",
    "\n",
    "res_expensive_frags = sorted(res_list_mode, key=lambda res_frag: res_frag.clean_gate_counts.get(\"Toffoli\", 0),reverse=True)[:2]\n",
    "step_mode_res = res_expensive_frags[0] + res_expensive_frags[1] \n",
    "\n",
    "for res in res_list_mode:\n",
    "    if res not in res_expensive_frags:\n",
    "        step_mode_res += res * 2"
   ]
  },
  {
   "cell_type": "markdown",
   "id": "b4fba1e4",
   "metadata": {},
   "source": [
    "#### Adding the cost of electronic unitaries used for diagonalization:"
   ]
  },
  {
   "cell_type": "code",
   "execution_count": 20,
   "id": "9c98e170",
   "metadata": {},
   "outputs": [],
   "source": [
    "res_unitary = re.estimate_resources(digonalizing_circuit, gate_set=my_gs,)(log_N, electronic_wires)\n",
    "\n",
    "Rz_count = res_unitary.clean_gate_counts.get(\"RZ\", 0)\n",
    "res_RZ = re.estimate_resources(re.ResourceControlled(re.ResourceSemiAdder(abs(math.floor(math.log2(1e-6)))), 1, 0))\n",
    "res_unitary += Rz_count*res_RZ # Synthesizing each RZ rotation using a adder to the Resource state"
   ]
  },
  {
   "cell_type": "markdown",
   "id": "b95329fa",
   "metadata": {},
   "source": [
    "#### Single Step Cost (Mode Based)"
   ]
  },
  {
   "cell_type": "code",
   "execution_count": 21,
   "id": "4d86275b",
   "metadata": {},
   "outputs": [
    {
     "name": "stdout",
     "output_type": "stream",
     "text": [
      "Qubit Count = 166\n",
      "Toffoli Count = 2.656E+04\n"
     ]
    }
   ],
   "source": [
    "step_mode_res += res_unitary \n",
    "print_Qubit_Toff(step_mode_res)"
   ]
  },
  {
   "cell_type": "markdown",
   "id": "60e0c2f8",
   "metadata": {},
   "source": [
    "### Number of Trotter Steps\n",
    "\n",
    "The overall accuracy of a Trotter-based quantum simulation is determined by the number of discrete time steps used. This section outlines the process for calculating how many steps are needed to achieve a target error tolerance for a given total simulation time."
   ]
  },
  {
   "cell_type": "markdown",
   "id": "6c3da5aa",
   "metadata": {},
   "source": [
    "#### Loading the Spectral Norm of the Trotter Error Operator\n",
    "\n",
    "The spectral norm of the Trotter error operator, $\\lambda$, is loaded from a CSV file for the given system."
   ]
  },
  {
   "cell_type": "code",
   "execution_count": 25,
   "id": "ba6baf3c",
   "metadata": {},
   "outputs": [],
   "source": [
    "norm_OG = get_norm_value(mol, 2**k, M, fragmentation_scheme='OG')\n",
    "norm_mode = get_norm_value(mol, 2**k, M, fragmentation_scheme='mode')"
   ]
  },
  {
   "cell_type": "markdown",
   "id": "c9b21a6d",
   "metadata": {},
   "source": [
    "### Calculating the Required Number of Trotter Steps\n",
    "\n",
    "The required number of trotter steps n, for a simulation for time t, and an error tolerance of $\\epsilon$ is:\n",
    "\n",
    "$$\n",
    "n = t^{1.5}\\cdot \\sqrt{ \\frac{\\lambda}{\\epsilon}}.\n",
    "$$"
   ]
  },
  {
   "cell_type": "code",
   "execution_count": 32,
   "id": "af2b928f",
   "metadata": {},
   "outputs": [
    {
     "name": "stdout",
     "output_type": "stream",
     "text": [
      "112843 Trotter steps are required for a 1.0% error tolerance in simulation of the hamiltonian using the OG fragmentation scheme.\n",
      "112843 Trotter steps are required for a 1.0% error tolerance in simulation of the hamiltonian using the mode based fragmentation scheme.\n"
     ]
    }
   ],
   "source": [
    "def num_steps(norm, req_error, total_time):\n",
    "    return math.ceil(total_time**1.5 * (norm / req_error)**0.5)\n",
    "\n",
    "total_time = 152 # in ev, time that we want to get the cost for (100 fs).\n",
    "req_error = 0.01 # 1 percent error\n",
    "\n",
    "if norm_OG is not None:\n",
    "    nsteps_OG = num_steps(norm_OG, req_error, total_time)\n",
    "    print(f'{nsteps_OG} Trotter steps are required for a {100*req_error}% error tolerance in simulation of the hamiltonian using the OG fragmentation scheme.')\n",
    "\n",
    "if norm_OG is not None:\n",
    "    nsteps_mode = num_steps(norm_mode, req_error, total_time)\n",
    "    print(f'{nsteps_mode} Trotter steps are required for a {100*req_error}% error tolerance in simulation of the hamiltonian using the mode based fragmentation scheme.')"
   ]
  },
  {
   "cell_type": "markdown",
   "id": "9440ce55",
   "metadata": {},
   "source": [
    "### Initial State Preparation\n",
    "\n",
    "Before the time evolution can begin, the quantum computer must be prepared in a specific initial state. This involves preparing both the resource states required for arithmetic operations and the physical state of the molecular system. The following cells estimate the cost of these preparation routines."
   ]
  },
  {
   "cell_type": "markdown",
   "id": "19abb278",
   "metadata": {},
   "source": [
    "#### Preparing a resource state used for the phase gradient operations:"
   ]
  },
  {
   "cell_type": "code",
   "execution_count": 33,
   "id": "d87757a9",
   "metadata": {},
   "outputs": [],
   "source": [
    "def phasegrad_circ(b, phase_grad_wires):\n",
    "    re.ResourcePhaseGradient(num_wires=b, wires=phase_grad_wires)\n",
    "\n",
    "# We change the default single qubit rotation precision to 1e-15 so that the error\n",
    "# from the roations can be neglected for error in the phase added.\n",
    "epsilon = 1e-12\n",
    "\n",
    "res_initial = re.estimate_resources(\n",
    "    phasegrad_circ, \n",
    "    single_qubit_rotation_error=epsilon,)(b, phase_grad_wires)"
   ]
  },
  {
   "cell_type": "markdown",
   "id": "25978fab",
   "metadata": {},
   "source": [
    "#### Preparing the mode registers in an Harmonic Oscillator state:"
   ]
  },
  {
   "cell_type": "code",
   "execution_count": 34,
   "id": "3b7962fd",
   "metadata": {},
   "outputs": [
    {
     "name": "stdout",
     "output_type": "stream",
     "text": [
      "--- Resources: ---\n",
      " Total qubits: 33\n",
      " Total gates : 2.230E+4\n",
      " Qubit breakdown:\n",
      "  clean qubits: 13, dirty qubits: 0, algorithmic qubits: 20\n",
      " Gate breakdown:\n",
      "  {'Z': 1, 'S': 1, 'T': 1.438E+4, 'X': 1.920E+3, 'CNOT': 2.352E+3, 'Toffoli': 864, 'Hadamard': 2.784E+3}\n"
     ]
    }
   ],
   "source": [
    "def stateprep_circ(k, mode_wires):\n",
    "    re.ResourceQROMStatePreparation(num_state_qubits=k, wires=mode_wires)\n",
    "\n",
    "res_initial += M*re.estimate_resources(stateprep_circ)(k, mode_wires)\n",
    "print(res_initial)"
   ]
  },
  {
   "cell_type": "markdown",
   "id": "b2202da3",
   "metadata": {},
   "source": [
    "## Calculating the total algorithm cost:"
   ]
  },
  {
   "cell_type": "markdown",
   "id": "9561fa17",
   "metadata": {},
   "source": [
    "#### For the OG Fragmentation scheme:"
   ]
  },
  {
   "cell_type": "code",
   "execution_count": 37,
   "id": "e9968a05",
   "metadata": {},
   "outputs": [
    {
     "name": "stdout",
     "output_type": "stream",
     "text": [
      "Qubit Count = 166\n",
      "Toffoli Count = 3.563E+09\n"
     ]
    }
   ],
   "source": [
    "if norm_OG is not None:\n",
    "    res_total_OG = res_initial + step_OG_res*nsteps_OG\n",
    "    print_Qubit_Toff(res_total_OG)"
   ]
  },
  {
   "cell_type": "markdown",
   "id": "42053ffa",
   "metadata": {},
   "source": [
    "#### For the mode based fragmentation scheme:"
   ]
  },
  {
   "cell_type": "code",
   "execution_count": 38,
   "id": "9cac31f3",
   "metadata": {},
   "outputs": [
    {
     "name": "stdout",
     "output_type": "stream",
     "text": [
      "Qubit Count = 166\n",
      "Toffoli Count = 2.997E+09\n"
     ]
    }
   ],
   "source": [
    "if norm_OG is not None:\n",
    "    res_total_mode = res_initial + step_mode_res*nsteps_mode\n",
    "    print_Qubit_Toff(res_total_mode)"
   ]
  }
 ],
 "metadata": {
  "kernelspec": {
   "display_name": "Python 3",
   "language": "python",
   "name": "python3"
  },
  "language_info": {
   "codemirror_mode": {
    "name": "ipython",
    "version": 3
   },
   "file_extension": ".py",
   "mimetype": "text/x-python",
   "name": "python",
   "nbconvert_exporter": "python",
   "pygments_lexer": "ipython3",
   "version": "3.13.3"
  }
 },
 "nbformat": 4,
 "nbformat_minor": 5
}
