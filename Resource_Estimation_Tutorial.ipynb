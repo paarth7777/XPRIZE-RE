{
 "cells": [
  {
   "cell_type": "code",
   "execution_count": 57,
   "id": "b6678fdb",
   "metadata": {},
   "outputs": [],
   "source": [
    "import numpy as np\n",
    "import copy\n",
    "import pickle\n",
    "import math\n",
    "from pennylane.labs import resource_estimation as re\n",
    "from utils import vibronic_fragments_modebased, count_nonzero_Q_terms, get_norm_value\n",
    "from pennylane.labs.trotter_error import vibronic_fragments\n",
    "from pennylane.labs.trotter_error import RealspaceMatrix"
   ]
  },
  {
   "cell_type": "markdown",
   "id": "f61bd3d9",
   "metadata": {},
   "source": [
    "# Resource Estimation for Quantum Algorithm for Non-Adiabatic Dynamics"
   ]
  },
  {
   "cell_type": "markdown",
   "id": "288b3ecc",
   "metadata": {},
   "source": [
    "### Cost Metric\n",
    "\n",
    "We take the Toffoli gate count, alongside qubit count, as our primary cost metric because the Toffoli, being a non Clifford gate, is a resource-intensive component in many quantum error correction schemes. Clifford gates can be implemented cheaply in many fault-tolerant architectures.\n",
    "\n",
    "Moreover, Toffoli‐based constructions are used for the arithmetic and modular‐arithmetic subroutines (e.g., adders, squaring, multiplier circuits) in quantum chemistry and optimization routines, thus, minimizing Toffoli count directly reduces the distillation workload and overall circuit depth. "
   ]
  },
  {
   "cell_type": "code",
   "execution_count": 58,
   "id": "fff18ead",
   "metadata": {},
   "outputs": [],
   "source": [
    "my_gs = {'X', 'Z', 'Y', 'S', 'Hadamard', 'CNOT','T', 'Toffoli'}\n",
    "\n",
    "def print_Qubit_Toff(resources):\n",
    "    '''Function for printing the resources for a circuit'''\n",
    "    qubit_count = resources.qubit_manager.total_qubits\n",
    "    toffoli_count = resources.clean_gate_counts.get(\"Toffoli\", 0)\n",
    "    \n",
    "    if toffoli_count > 9999:\n",
    "        toffoli_count = f\"{toffoli_count:.3E}\"\n",
    "    \n",
    "    print(f'Qubit Count = {qubit_count}')\n",
    "    print(f'Toffoli Count = {toffoli_count}')"
   ]
  },
  {
   "cell_type": "markdown",
   "id": "54bf2ddf",
   "metadata": {},
   "source": [
    "### Circuits used in Algorithm"
   ]
  },
  {
   "cell_type": "markdown",
   "id": "dbb0c856",
   "metadata": {},
   "source": [
    "Phase gradient circuit used for the resource state:"
   ]
  },
  {
   "cell_type": "code",
   "execution_count": 59,
   "id": "2ea0b921",
   "metadata": {},
   "outputs": [],
   "source": [
    "b = 20 # Number of Qubit used for the resource state\n",
    "\n",
    "phase_grad_wires = [f\"pg_{i}\" for i in range(b)]\n",
    "def initial_circ(b, phase_grad_wires):\n",
    "    re.ResourcePhaseGradient(num_wires=b, wires=phase_grad_wires)\n",
    "\n",
    "# We change the default single qubit rotation precision to 1e-15 so that the error\n",
    "# from the roations can be neglected for error in the phase added.\n",
    "epsilon = 1e-15\n",
    "\n",
    "res_initial = re.estimate_resources(\n",
    "    initial_circ, \n",
    "    gate_set=my_gs, \n",
    "    single_qubit_rotation_error=epsilon,)(b, phase_grad_wires)\n"
   ]
  },
  {
   "cell_type": "markdown",
   "id": "3bd74b6b",
   "metadata": {},
   "source": [
    "Circuit for implementing linear ($Q_r$) terms:"
   ]
  },
  {
   "cell_type": "code",
   "execution_count": 60,
   "id": "82e538f1",
   "metadata": {},
   "outputs": [],
   "source": [
    "def Q_cir(b, N, k, phase_grad_wires, electronic_wires, coeff_wires, total_mode_wires, mode_wires, scratch_wires):\n",
    "    re.ResourceQROM(num_bitstrings=N, size_bitstring=b, clean=False, wires=electronic_wires + coeff_wires)\n",
    "\n",
    "    for i in range(k):\n",
    "        ctrl_wire = [mode_wires[i]]\n",
    "        target_wires = coeff_wires[:b-i] + phase_grad_wires[:b-i]\n",
    "        re.ResourceControlled(re.ResourceSemiAdder(max_register_size=b - i), num_ctrl_wires=1, num_ctrl_values=0, wires=target_wires+ctrl_wire)\n",
    "\n",
    "    re.ResourceAdjoint(re.ResourceQROM(num_bitstrings=N, size_bitstring=b, clean=False, wires=electronic_wires + coeff_wires))\n",
    "     \n",
    "    re.ResourceIdentity(wires = scratch_wires + total_mode_wires[k:])"
   ]
  },
  {
   "cell_type": "markdown",
   "id": "c1a26a08",
   "metadata": {},
   "source": [
    "Circuit for implementing quadratic ($Q_r^2$) terms:"
   ]
  },
  {
   "cell_type": "code",
   "execution_count": 61,
   "id": "7af58b0e",
   "metadata": {},
   "outputs": [],
   "source": [
    "def Qsquared_cir(b, N, k, phase_grad_wires, electronic_wires, coeff_wires, total_mode_wires, mode_wires, scratch_wires):\n",
    "    re.ResourceQROM(num_bitstrings=N, size_bitstring=b, clean=False, wires=electronic_wires + coeff_wires)\n",
    "\n",
    "    re.ResourceOutOfPlaceSquare(register_size=k, wires=scratch_wires+mode_wires)\n",
    "\n",
    "    for i in range(2*k):\n",
    "        ctrl_wire = [f\"s_{i}\"]\n",
    "        target_wires = coeff_wires[:b-i] + phase_grad_wires[:b-i]\n",
    "        re.ResourceControlled(re.ResourceSemiAdder(max_register_size=b - i), num_ctrl_wires=1, num_ctrl_values=0, wires=target_wires + ctrl_wire)\n",
    "\n",
    "    re.ResourceAdjoint(re.ResourceOutOfPlaceSquare(register_size=k, wires=scratch_wires+mode_wires))\n",
    "\n",
    "    re.ResourceAdjoint(re.ResourceQROM(num_bitstrings=N, size_bitstring=b, clean=False, wires=electronic_wires + coeff_wires))\n",
    "\n",
    "    re.ResourceIdentity(wires = total_mode_wires[k:])"
   ]
  },
  {
   "cell_type": "markdown",
   "id": "74393265",
   "metadata": {},
   "source": [
    "Circuit for implementing Bilinear ($Q_r Q_s$) terms:"
   ]
  },
  {
   "cell_type": "code",
   "execution_count": 62,
   "id": "638a952d",
   "metadata": {},
   "outputs": [],
   "source": [
    "def QrQs_cir(b, N, k, phase_grad_wires, electronic_wires, coeff_wires, total_mode_wires, mode_wires, mode2_wires, scratch_wires):\n",
    "    re.ResourceQROM(num_bitstrings=N, size_bitstring=b, clean=False, wires=electronic_wires + coeff_wires)\n",
    "\n",
    "    re.ResourceOutMultiplier(a_num_qubits=k, b_num_qubits=k, wires=scratch_wires+mode_wires+mode2_wires)\n",
    "\n",
    "    for i in range(2*k):\n",
    "        ctrl_wire = [f\"s_{i}\"]\n",
    "        target_wires = coeff_wires[:b-i] + phase_grad_wires[:b-i]\n",
    "        re.ResourceControlled(re.ResourceSemiAdder(max_register_size=b - i), num_ctrl_wires=1, num_ctrl_values=0, wires=target_wires + ctrl_wire)\n",
    "\n",
    "    re.ResourceAdjoint(re.ResourceOutMultiplier(a_num_qubits=k, b_num_qubits=k, wires=scratch_wires+mode_wires+mode2_wires))\n",
    "\n",
    "    re.ResourceAdjoint(re.ResourceQROM(num_bitstrings=N, size_bitstring=b, clean=False, wires=electronic_wires + coeff_wires))\n",
    "\n",
    "    re.ResourceIdentity(wires = total_mode_wires[2*k:])"
   ]
  },
  {
   "cell_type": "markdown",
   "id": "667fa005",
   "metadata": {},
   "source": [
    "Changing the default resource decomposition for QFT:"
   ]
  },
  {
   "cell_type": "code",
   "execution_count": 63,
   "id": "6edc539e",
   "metadata": {},
   "outputs": [],
   "source": [
    "'''\n",
    "We use a different implementation of the QFT algorithm which is more resource efficient than\n",
    "the default textbook implemention used in Pennylane Resource Estimation,\n",
    "This comes from <https://arxiv.org/abs/1803.04933v2>.\n",
    "'''\n",
    "\n",
    "def AQFT_resource_decomp(num_wires, **kwargs):\n",
    "    ceil_log_n = math.ceil(math.log2(num_wires))\n",
    "    aux_qubit_count = num_wires + 3*ceil_log_n - 4  # (Section IV. )\n",
    "    \n",
    "    toff = re.ResourceT.resource_rep()\n",
    "    toff_count = 8 * num_wires*(ceil_log_n - 1)\n",
    "\n",
    "    gate_list = [\n",
    "        re.AllocWires(aux_qubit_count),\n",
    "        re.GateCount(toff, toff_count),\n",
    "        re.FreeWires(aux_qubit_count),\n",
    "    ]\n",
    "    return gate_list\n",
    "\n",
    "re.ResourceQFT.set_resources(AQFT_resource_decomp)\n",
    "# re.ResourceQFT.set_resources(re.ResourceQFT.default_resource_decomp)  # reset to default QFT cost"
   ]
  },
  {
   "cell_type": "markdown",
   "id": "ddc975f1",
   "metadata": {},
   "source": [
    "Circuit for applying a Unitary rotation on the electronic subspace:"
   ]
  },
  {
   "cell_type": "code",
   "execution_count": 64,
   "id": "22996050",
   "metadata": {},
   "outputs": [],
   "source": [
    "re.ResourceMultiplexer.set_resources(re.ResourceMultiplexer.phase_grad_resource_decomp)\n",
    "\n",
    "def digonalizing_circuit(N, electronic_wires):\n",
    "    re.ResourceQubitUnitary(num_wires=N, precision=1e-10, wires=electronic_wires)"
   ]
  },
  {
   "cell_type": "code",
   "execution_count": 65,
   "id": "f991bc87",
   "metadata": {},
   "outputs": [],
   "source": [
    "def kinetic_cir(b, M, k, phase_grad_wires, electronic_wires, coeff_wires, total_mode_wires, mode_wires, scratch_wires):\n",
    "    for i in range(M):\n",
    "        re.ResourceQFT(num_wires=k, wires=total_mode_wires[i*k: k*(i + 1)])\n",
    "\n",
    "    for i in range(M):\n",
    "        mode_wires = total_mode_wires[i*k: k*(i + 1)]\n",
    "        re.ResourceOutOfPlaceSquare(register_size=k, wires=mode_wires+scratch_wires)\n",
    "\n",
    "        for j in range(2*k):\n",
    "            ctrl_wire = [f\"s_{j}\"]\n",
    "            target_wires = coeff_wires[:b-j] + phase_grad_wires[:b-j]\n",
    "            re.ResourceControlled(re.ResourceSemiAdder(max_register_size=b - j), num_ctrl_wires=1, num_ctrl_values=0, wires=target_wires + ctrl_wire)\n",
    "\n",
    "        re.ResourceAdjoint(re.ResourceOutOfPlaceSquare(register_size=k, wires=mode_wires+scratch_wires))\n",
    "\n",
    "    for i in range(M):\n",
    "        re.ResourceAdjoint(re.ResourceQFT(num_wires=k), wires=total_mode_wires[i*k: k*(i + 1)])\n",
    "\n",
    "    re.ResourceIdentity(wires=electronic_wires)"
   ]
  },
  {
   "cell_type": "markdown",
   "id": "09e3abee",
   "metadata": {},
   "source": [
    "## Resource Estimation for Systems of Interest"
   ]
  },
  {
   "cell_type": "markdown",
   "id": "5ef7ffbb",
   "metadata": {},
   "source": [
    "Loading the Hamiltonian:"
   ]
  },
  {
   "cell_type": "code",
   "execution_count": 66,
   "id": "0c74d1b0",
   "metadata": {},
   "outputs": [
    {
     "name": "stdout",
     "output_type": "stream",
     "text": [
      "Loaded maleimide_5s_24m_bilin Hamiltonian with 24 modes and 5 states.\n"
     ]
    },
    {
     "name": "stderr",
     "output_type": "stream",
     "text": [
      "/var/folders/zv/cfr06cz541b53yzvds885cb00000gq/T/ipykernel_31805/2517105548.py:15: DeprecationWarning: numpy.core.numeric is deprecated and has been renamed to numpy._core.numeric. The numpy._core namespace contains private NumPy internals and its use is discouraged, as NumPy internals can change without warning in any release. In practice, most real-world usage of numpy.core is to access functionality in the public NumPy API. If that is the case, use the public NumPy API. If not, you are using NumPy internals. If you would still like to access an internal attribute, use numpy._core.numeric._frombuffer.\n",
      "  omegas, couplings = pickle.load(filehandler)\n"
     ]
    }
   ],
   "source": [
    "''' \n",
    "Uncomment the molecule that resource estimation should be performed for.\n",
    "'''\n",
    "\n",
    "# mol = 'no4a_monomer' \n",
    "# mol = 'no4a_dimer'            \n",
    "# mol = 'anthra-c60_ct'\n",
    "# mol = 'anthracene_6s_66m'\n",
    "# mol = 'pentacene_16s_102m'\n",
    "mol = 'maleimide_5s_24m_bilin'\n",
    "# mol = 'maleimide_5s_24m_nobilin'\n",
    "\n",
    "k = 4 # Number of Qubits for discretization of each mode\n",
    "filehandler = open(f'model_params/{mol}.pkl', 'rb')\n",
    "omegas, couplings = pickle.load(filehandler)\n",
    "filehandler.close()\n",
    "\n",
    "QVC = bool(2 in couplings)\n",
    "# Check if the model has contain Quadratic Couplings\n",
    "omegas = np.array(omegas)\n",
    "lambdas = couplings[0]\n",
    "alphas = couplings[1]\n",
    "\n",
    "N, M = alphas.shape[0], alphas.shape[2]\n",
    "log_N = math.ceil(math.log2(N))\n",
    "\n",
    "if QVC:\n",
    "    betas = couplings[2]\n",
    "else:\n",
    "    betas = np.zeros((N, N, M, M))\n",
    "\n",
    "print(f'Loaded {mol} Hamiltonian with {M} modes and {N} states.')"
   ]
  },
  {
   "cell_type": "markdown",
   "id": "4c7efc28",
   "metadata": {},
   "source": [
    "Naming the wires used in the circuits:"
   ]
  },
  {
   "cell_type": "code",
   "execution_count": 67,
   "id": "c980539f",
   "metadata": {},
   "outputs": [],
   "source": [
    "electronic_wires = [f\"e_{i}\" for i in range(log_N)]\n",
    "coeff_wires = [f\"c_{i}\" for i in range(b)]\n",
    "total_mode_wires = [f\"m_{i}\" for i in range(k*M)]\n",
    "mode_wires = total_mode_wires[:k]\n",
    "scratch_wires = [f\"s_{i}\" for i in range(2*k)] "
   ]
  },
  {
   "cell_type": "markdown",
   "id": "aba3ba36",
   "metadata": {},
   "source": [
    "Estimating the cost of implementing linear ($Q_r$) terms:"
   ]
  },
  {
   "cell_type": "code",
   "execution_count": 68,
   "id": "15082274",
   "metadata": {},
   "outputs": [
    {
     "name": "stdout",
     "output_type": "stream",
     "text": [
      "Qubit Count = 166\n",
      "Toffoli Count = 146\n"
     ]
    }
   ],
   "source": [
    "res_Q = re.estimate_resources(Q_cir, gate_set=my_gs)(b, N, k, phase_grad_wires, electronic_wires, coeff_wires, total_mode_wires, mode_wires, scratch_wires)\n",
    "print_Qubit_Toff(res_Q)"
   ]
  },
  {
   "cell_type": "markdown",
   "id": "dc756c39",
   "metadata": {},
   "source": [
    "Estimate the cost of implementing quadratic ($Q_r^2$) terms:"
   ]
  },
  {
   "cell_type": "code",
   "execution_count": 69,
   "id": "a8597baf",
   "metadata": {},
   "outputs": [
    {
     "name": "stdout",
     "output_type": "stream",
     "text": [
      "Qubit Count = 166\n",
      "Toffoli Count = 272\n"
     ]
    }
   ],
   "source": [
    "res_Qsquared = re.estimate_resources(Qsquared_cir, gate_set=my_gs)(b, N, k, phase_grad_wires, electronic_wires, coeff_wires, total_mode_wires, mode_wires, scratch_wires)\n",
    "print_Qubit_Toff(res_Qsquared)"
   ]
  },
  {
   "cell_type": "markdown",
   "id": "7d3c8c17",
   "metadata": {},
   "source": [
    "Estimate the cost of implementing bilinear ($Q_r Q_s$) terms:"
   ]
  },
  {
   "cell_type": "code",
   "execution_count": 70,
   "id": "923c1cdd",
   "metadata": {},
   "outputs": [
    {
     "name": "stdout",
     "output_type": "stream",
     "text": [
      "Qubit Count = 166\n",
      "Toffoli Count = 310\n"
     ]
    }
   ],
   "source": [
    "mode2_wires = total_mode_wires[k:2*k]\n",
    "res_QrQs = re.estimate_resources(QrQs_cir, gate_set=my_gs)(b, N, k, phase_grad_wires, electronic_wires, coeff_wires, total_mode_wires, mode_wires, mode2_wires, scratch_wires)\n",
    "print_Qubit_Toff(res_QrQs)"
   ]
  },
  {
   "cell_type": "markdown",
   "id": "9c14cd4f",
   "metadata": {},
   "source": [
    "### Fragmention of Hamiltonian (OG)"
   ]
  },
  {
   "cell_type": "code",
   "execution_count": 71,
   "id": "5b87b3eb",
   "metadata": {},
   "outputs": [
    {
     "name": "stdout",
     "output_type": "stream",
     "text": [
      "Decomposed Hamiltonian into 9 fragments using the Orginal Grouping(OG) method\n"
     ]
    }
   ],
   "source": [
    "fragments_OG = vibronic_fragments(N, M, omegas, [lambdas, alphas, betas])\n",
    "print(f'Decomposed Hamiltonian into {len(fragments_OG)} fragments using the Orginal Grouping(OG) method')"
   ]
  },
  {
   "cell_type": "markdown",
   "id": "881e0f32",
   "metadata": {},
   "source": [
    "Cost of implementing the kinetic fragment:"
   ]
  },
  {
   "cell_type": "code",
   "execution_count": 72,
   "id": "0a629fa7",
   "metadata": {},
   "outputs": [
    {
     "name": "stdout",
     "output_type": "stream",
     "text": [
      "Qubit Count = 166\n",
      "Toffoli Count = 6384\n"
     ]
    }
   ],
   "source": [
    "res_kinetic = re.estimate_resources(kinetic_cir, gate_set=my_gs)(b, M, k, phase_grad_wires, electronic_wires, coeff_wires, total_mode_wires, mode_wires, scratch_wires)\n",
    "\n",
    "Qubit_count = res_kinetic.qubit_manager.total_qubits\n",
    "print_Qubit_Toff(res_kinetic)"
   ]
  },
  {
   "cell_type": "markdown",
   "id": "2ec507b7",
   "metadata": {},
   "source": [
    "The `count_nonzero_Q_terms` function counts the number of $Q_r$, $Q_r^2$ and $Q_r Q_s$ terms in a given fragment. These counts determine how many times the circuits `Q_cir`, `Qsquared_cir` and `QrQs_cir`will be required for implementing each fragment of the potential part.\n"
   ]
  },
  {
   "cell_type": "code",
   "execution_count": 73,
   "id": "3f4a1566",
   "metadata": {},
   "outputs": [],
   "source": [
    "res_list_OG = [res_kinetic]\n",
    "\n",
    "for i in range(len(fragments_OG)-1):\n",
    "    num_Qr, num_Qr2, num_QrQs = count_nonzero_Q_terms(fragments_OG[i])\n",
    "    res_frag = num_Qr * res_Q + num_Qr2 * res_Qsquared + num_QrQs * res_QrQs\n",
    "    res_list_OG.append(res_frag)"
   ]
  },
  {
   "cell_type": "markdown",
   "id": "611d6100",
   "metadata": {},
   "source": [
    "### Single Trotter Step Cost (OG)"
   ]
  },
  {
   "cell_type": "markdown",
   "id": "402d3a39",
   "metadata": {},
   "source": [
    "The two most expensive fragments are implemented once and the othes are implemented twice for second order trotter:"
   ]
  },
  {
   "cell_type": "code",
   "execution_count": 74,
   "id": "6f350f59",
   "metadata": {},
   "outputs": [
    {
     "name": "stdout",
     "output_type": "stream",
     "text": [
      "Qubit Count = 166\n",
      "Toffoli Count = 3.119E+04\n"
     ]
    }
   ],
   "source": [
    "res_expensive_frags = sorted(res_list_OG, key=lambda res_frag: res_frag.clean_gate_counts.get(\"Toffoli\", 0),reverse=True)[:2]\n",
    "total_OG_res = res_expensive_frags[0] + res_expensive_frags[1] \n",
    "\n",
    "for res in res_list_OG:\n",
    "    if res not in res_expensive_frags:\n",
    "        total_OG_res += res * 2\n",
    "\n",
    "print_Qubit_Toff(total_OG_res)"
   ]
  },
  {
   "cell_type": "markdown",
   "id": "8effc7c5",
   "metadata": {},
   "source": [
    "### Fragmentation of Hamiltonian (Mode Based)"
   ]
  },
  {
   "cell_type": "code",
   "execution_count": 75,
   "id": "3e228f86",
   "metadata": {},
   "outputs": [
    {
     "name": "stdout",
     "output_type": "stream",
     "text": [
      "Decomposed Hamiltonian into 22 fragments using the mode based fragmentation method\n"
     ]
    }
   ],
   "source": [
    "fragments_mode = vibronic_fragments_modebased(N, M, omegas, [lambdas, alphas, betas], 'FC')\n",
    "\n",
    "num_frags_mode = len(fragments_mode)\n",
    "print(f'Decomposed Hamiltonian into {num_frags_mode} fragments using the mode based fragmentation method')"
   ]
  },
  {
   "cell_type": "code",
   "execution_count": 76,
   "id": "119b73a8",
   "metadata": {},
   "outputs": [],
   "source": [
    "res_list_mode = [res_kinetic]\n",
    "\n",
    "for i in range(len(fragments_mode)-1):\n",
    "    num_Qr, num_Qr2, num_QrQs = count_nonzero_Q_terms(fragments_mode[i])\n",
    "    res_frag = num_Qr * res_Q + num_Qr2 * res_Qsquared + num_QrQs * res_QrQs\n",
    "    res_list_mode.append(res_frag)\n",
    "\n",
    "res_expensive_frags = sorted(res_list_mode, key=lambda res_frag: res_frag.clean_gate_counts.get(\"Toffoli\", 0),reverse=True)[:2]\n",
    "total_mode_res = res_expensive_frags[0] + res_expensive_frags[1] \n",
    "\n",
    "for res in res_list_mode:\n",
    "    if res not in res_expensive_frags:\n",
    "        total_mode_res += res * 2"
   ]
  },
  {
   "cell_type": "markdown",
   "id": "b4fba1e4",
   "metadata": {},
   "source": [
    "Next, we add the cost of the Unitaries acting on the electronic register:"
   ]
  },
  {
   "cell_type": "code",
   "execution_count": 77,
   "id": "a5da190d",
   "metadata": {},
   "outputs": [
    {
     "name": "stdout",
     "output_type": "stream",
     "text": [
      "Qubit Count = 166\n",
      "Toffoli Count = 2.557E+04\n"
     ]
    }
   ],
   "source": [
    "res_unitary = re.estimate_resources(digonalizing_circuit,gate_set=my_gs,)(N, electronic_wires)\n",
    "\n",
    "total_mode_res += res_unitary\n",
    "print_Qubit_Toff(total_mode_res)"
   ]
  },
  {
   "cell_type": "markdown",
   "id": "60e0c2f8",
   "metadata": {},
   "source": [
    "### Number of Trotter Steps"
   ]
  },
  {
   "cell_type": "markdown",
   "id": "6c3da5aa",
   "metadata": {},
   "source": [
    "Loading spectral norm of the trotter error operator, $||\\varepsilon||$:"
   ]
  },
  {
   "cell_type": "code",
   "execution_count": 78,
   "id": "ba6baf3c",
   "metadata": {},
   "outputs": [
    {
     "name": "stdout",
     "output_type": "stream",
     "text": [
      "Norm not found!\n"
     ]
    }
   ],
   "source": [
    "CSV_FILENAME = \"norms.csv\"\n",
    "norm = get_norm_value(mol=f'{mol}.pkl', K=2**k, M=M, filepath=CSV_FILENAME)"
   ]
  },
  {
   "cell_type": "markdown",
   "id": "c9b21a6d",
   "metadata": {},
   "source": [
    "Then the required number of trotter steps for a simulation for time t and an error tolerance of $\\epsilon$ is:\n",
    "\n",
    "$$\n",
    "n = t^{1.5}\\cdot \\sqrt{ \\frac{||\\varepsilon||}{\\epsilon}}.\n",
    "$$"
   ]
  },
  {
   "cell_type": "code",
   "execution_count": 79,
   "id": "af2b928f",
   "metadata": {},
   "outputs": [],
   "source": [
    "def num_steps(norm, req_error, total_time):\n",
    "    return math.ceil(total_time**1.5 * (norm / req_error)**0.5)\n",
    "\n",
    "total_time = 152 # in ev, time that we want to get the cost for (100 fs).\n",
    "req_error = 0.01 # 1 percent error\n",
    "\n",
    "if norm is not None:\n",
    "    nsteps = num_steps(norm, req_error, total_time)\n",
    "    print(f'{nsteps} Trotter steps are required for a {100*req_error}% error tolerance for simulation of the hamiltonian.')"
   ]
  }
 ],
 "metadata": {
  "kernelspec": {
   "display_name": "venv",
   "language": "python",
   "name": "python3"
  },
  "language_info": {
   "codemirror_mode": {
    "name": "ipython",
    "version": 3
   },
   "file_extension": ".py",
   "mimetype": "text/x-python",
   "name": "python",
   "nbconvert_exporter": "python",
   "pygments_lexer": "ipython3",
   "version": "3.13.3"
  }
 },
 "nbformat": 4,
 "nbformat_minor": 5
}
