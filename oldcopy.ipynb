{
 "cells": [
  {
   "cell_type": "markdown",
   "id": "bf8c67a4",
   "metadata": {},
   "source": [
    "### Install Instructions:\n",
    "The functionality presented in this notebook is experimental. Running this notebook requires the custom installation of a development branch of PennyLane. The installation is broken into two steps:\n",
    "*Note: Make sure you are working in the directory which contains the requirements file.*\n",
    "1. Install the development branch of PennyLane using the following command:\n",
    "```consol\n",
    "pip3 install git+https://github.com/PennyLaneAI/pennylane.git@add_resource_templates_core\n",
    "```\n",
    "2. Install some additional dependancies of the `pennylane/labs` module using the requirements file `requirements_labs.txt` provided:\n",
    "```consol\n",
    "pip3 install -r ./requirements_labs.txt\n",
    "```\n"
   ]
  },
  {
   "cell_type": "code",
   "execution_count": 1,
   "id": "b6678fdb",
   "metadata": {},
   "outputs": [],
   "source": [
    "import numpy as np\n",
    "import copy\n",
    "import pickle\n",
    "import math\n",
    "from pennylane.labs import resource_estimation as re\n",
    "from pennylane.labs.trotter_error import vibronic_fragments\n",
    "from pennylane.labs.trotter_error.product_formulas import trotter_error\n",
    "from pennylane.labs.trotter_error import RealspaceMatrix"
   ]
  },
  {
   "cell_type": "markdown",
   "id": "523f6efc",
   "metadata": {},
   "source": [
    "# Quantum algorithm for vibronic dynamics\n",
    "\n",
    "### Vibronic dynamics\n",
    "\n",
    "While ground state chemistry can often be described within the adiabatic Born-Oppenheimer (BO) approximation, where nuclei evolve on a single electronic potential energy surface (PES) that is energetically distant from others, **excited-state processes** encountered in photochemistry often require a description involving nuclear dynamics on multiple potential energy surfaces. This is due to the frequently encountered lack of energetic separation within the excited state manifold, and that non-adiabatic couplings can become substantial in the viscinity of degeneracy. In order to simulate the non-adiabatic dynamics relevant to various photodynamical applications, it is common to employ a vibronic coupling Hamiltonian, which describes the interaction between a set of electronic states and nuclear vibrational motion. A **vibronic Hamiltonian** comprising $N$ electronic states and $M$ vibrational modes is expressed as\n",
    "\n",
    "$$\n",
    "H = T + V,\n",
    "$$\n",
    "\n",
    "where, in the diabatic electronic basis, kinetic energy $T$ is diagonal while potential $V$ contains off-diagonal electronic couplings,\n",
    "\n",
    "$$\n",
    "T = \\mathbb{I}_{\\text{el}} \\otimes \\sum_{r=0}^{M-1} \\frac{\\omega_r}{2} P_r^2, \\quad\n",
    "V = (\\mathbb{I}_{\\text{el}} \\otimes V_0) + W' = \\sum_{i,j=0}^{N-1} |j\\rangle \\langle i| \\otimes V_{ji},\n",
    "$$\n",
    "\n",
    "where $\\mathbb{I}_{\\text{el}}$ is the $N \\times N$ identity matrix acting on the electronic space, $\\omega_r$ is the harmonic frequency of the $r^{\\rm{th}}$ vibrational normal mode, with associated momentum and position operators $P_r$ and $Q_r$ respectively. Couplings $V_{ji}$ are generally given by degree $d$ multivariate polynomials of position operators,\n",
    "\n",
    "$$\n",
    "V_{ji} = \\sum_{|\\vec{\\alpha}| \\leq d} c_{\\vec{\\alpha}}^{(j,i)} \\mathbf{Q}^{\\vec{\\alpha}} = \\lambda^{(j,i)} + \\sum_{r=0}^{M-1} \\gamma_r^{(j,i)} Q_r + \\sum_{r,r'=0}^{M-1} \\beta_{rr'}^{(j,i)} Q_r Q_{r'} + \\cdots\n",
    "$$\n",
    "\n",
    "where we have used the multi-index notation:\n",
    "\n",
    "$$\n",
    "\\mathbf{Q}^{\\vec{\\alpha}} = Q_0^{\\alpha_0} Q_1^{\\alpha_1} \\cdots Q_{M-1}^{\\alpha_{M-1}}.\n",
    "$$\n",
    "\n",
    "Typical truncations are $d=1$ and $d=2$, which result in the commonly employed linear vibronic coupling (LVC) and quadratic vibronic coupling models (QVC), respectively. While LVCs are already sufficient to model qualitative features of the vibronic interaction, such as the existence of a conical intersection between PESs, higher order expansions are required for the quantitative determination of observables, particularly over dynamics involving longer timescales, large amplitude nuclear motions, or highly anharmonic electronic potentials.\n",
    "\n",
    "### Observable quantities\n",
    "\n",
    "Performing time evolution of an initial vibronic wavefunction $| \\psi(0) \\rangle$ enables the calculation of various observables, such as vibronically resolved spectra and electronic state populations as a function of time. In the context of molecular photodynamics, the latter is especially important, as it allows for the explicit, non-perturbative description of quantum dynamical processes such as exciton and charge transfer, internal conversions, and intersystem crossings. The population of the wavefunction $| \\psi (t) \\rangle = e^{-i H t} | \\psi (0) \\rangle$ in the $i^{\\rm{th}}$ electronic state is simply given by\n",
    "\n",
    "$$\n",
    "p_i(t) = \\langle \\psi (t) | \\left( | i \\rangle \\langle i | \\otimes \\mathbb{I}_{vib} \\right) | \\psi (t) \\rangle,\n",
    "$$\n",
    "\n",
    "i.e., the $i^{\\rm{th}}$ diagonal entry of the reduced electronic density matrix. State populations obtained over the propagation time can be straightforwardly fitted to exponential functions or applied within more sophisticated kinetic models to extract transition rates and excited-state lifetimes.\n",
    "\n",
    "\n",
    "# Resource estimation\n",
    "The remainder of this notebook contains resource estimation analysis for the simulation of vibronic Hamiltonians using the algorithm described in [arXiv:2403.10504](https://arxiv.org/abs/2411.13669).\n",
    "\n",
    "The algorithm utilizes a real-space discretization of the vibrational degrees of freedom, where each mode is resolved on a grid of $K = 2^k$ points each, requiring $k$ qubits. The $N$ electronic states are simply mapped to the computational basis states on a $log(N)$-qubit register, and hence $H$ acts on the space of $M \\log(K) + \\log(N)$ qubits within this representation.\n",
    "\n",
    "The systems used for resources estimation for simulting vibronic dynamics are:"
   ]
  },
  {
   "cell_type": "markdown",
   "id": "dc98fe41",
   "metadata": {},
   "source": [
    "<table>\n",
    "<tr>\n",
    "<td align=\"center\" valign=\"top\">\n",
    "  <img src=\"diagrams/anth_monomer.png\" height=\"250\"><br>\n",
    "  <b>Fig.&nbsp;1:</b> Intramolecular singlet fission in (NO)<sub>4</sub>-Anth.\n",
    "</td>\n",
    "\n",
    "<td align=\"center\" valign=\"top\">\n",
    "  <img src=\"diagrams/anth_dimer.png\" height=\"250\"><br>\n",
    "  <b>Fig.&nbsp;2:</b> Triplet exciton separation in a (NO)<sub>4</sub>-Anth dimer.\n",
    "</td>\n",
    "\n",
    "<td align=\"center\" valign=\"top\">\n",
    "  <img src=\"diagrams/anth_c60.png\" height=\"250\"><br>\n",
    "  <b>Fig.&nbsp;3:</b> Charge transfer at an Anth / C<sub>60</sub> interface.\n",
    "</td>\n",
    "</tr>\n",
    "</table>\n"
   ]
  },
  {
   "cell_type": "markdown",
   "id": "cb2ac202",
   "metadata": {},
   "source": [
    "Below, we summarize the vibronic Hamiltonian specifications for these systems.\n",
    "\n",
    "\n",
    "| **System**                                | **Process of interest**      | **Number of states** | **Number of modes**|                    \n",
    "|-------------------------------------------|------------------------------|----------------------|--------------------|\n",
    "| (NO)₄-Anth                                |   Singlet fission            | 5                    | 19                 |\n",
    "| (NO)₄-Anth Dimer                          |   Triplet separation         | 6                    | 21                 |\n",
    "| Anth/$C_{60}$ (reduced dimensionality)    |   Charge separation          | 4                    | 11                 |\n",
    "| Anth/$C_{60}$ (full dimensionality)       |   Charge separation          | 4                    | 246                |"
   ]
  },
  {
   "cell_type": "code",
   "execution_count": 4,
   "id": "7a9c9bd3",
   "metadata": {},
   "outputs": [
    {
     "name": "stdout",
     "output_type": "stream",
     "text": [
      "Loaded n4o4a_sf Hamiltonian with 19 modes and 5 states.\n"
     ]
    },
    {
     "name": "stderr",
     "output_type": "stream",
     "text": [
      "/var/folders/zv/cfr06cz541b53yzvds885cb00000gq/T/ipykernel_84072/4233113550.py:13: DeprecationWarning: numpy.core.numeric is deprecated and has been renamed to numpy._core.numeric. The numpy._core namespace contains private NumPy internals and its use is discouraged, as NumPy internals can change without warning in any release. In practice, most real-world usage of numpy.core is to access functionality in the public NumPy API. If that is the case, use the public NumPy API. If not, you are using NumPy internals. If you would still like to access an internal attribute, use numpy._core.numeric._frombuffer.\n",
      "  omegas, couplings = pickle.load(filehandler)\n"
     ]
    }
   ],
   "source": [
    "''' \n",
    "Uncomment the molecule that resource estimation should be performed for.\n",
    "'''\n",
    "\n",
    "mol = 'n4o4a_sf' \n",
    "# mol = 'n4o4a_ts'            \n",
    "# mol = 'anthra-c60_ct_M=11'\n",
    "# mol = 'anthra-c60_ct_M=246'\n",
    "\n",
    "k = 4 # Number of Qubits for discretization of each mode\n",
    "\n",
    "filehandler = open(f'model_params/{mol}.pkl', 'rb')\n",
    "omegas, couplings = pickle.load(filehandler)\n",
    "filehandler.close()\n",
    "\n",
    "QVC = bool(2 in couplings)\n",
    "# Check if the model has contain Quadratic Couplings\n",
    "omegas = np.array(omegas)\n",
    "lambdas = couplings[0]\n",
    "alphas = couplings[1]\n",
    "\n",
    "N, M = alphas.shape[0], alphas.shape[2]\n",
    "log_N = math.ceil(math.log2(N))\n",
    "\n",
    "if QVC:\n",
    "    betas = couplings[2]\n",
    "else:\n",
    "    betas = np.zeros((N, N, M, M))\n",
    "\n",
    "print(f'Loaded {mol} Hamiltonian with {M} modes and {N} states.')"
   ]
  },
  {
   "cell_type": "code",
   "execution_count": 5,
   "id": "707c09fc",
   "metadata": {},
   "outputs": [],
   "source": [
    "# Override M, use arbitrary M, for reduced model, get cost using the mode based fragmentation scheme\n",
    "override = True\n",
    "M = 19"
   ]
  },
  {
   "cell_type": "markdown",
   "id": "7cdb0cc2",
   "metadata": {},
   "source": [
    "## Fragmentation"
   ]
  },
  {
   "cell_type": "markdown",
   "id": "806710cf",
   "metadata": {},
   "source": [
    "<div style=\"display: flex; justify-content: space-between; align-items: flex-start;\">\n",
    "\n",
    "<div style=\"width: 55%; padding-right: 2em;\">\n",
    "\n",
    "Fragmentation is used to break the full vibronic Hamiltonian into smaller, structured components that are easier to simulate on a quantum computer. For the vibronic Hamiltonian, fragments are found such that each of them is block-diagonalizable in the electronic basis.\n",
    "\n",
    "This structure enables efficient implementation of the time evolution operator for each fragment. For fragmenting the vibronic Hamiltonian, the first $N$ fragments are for decomposition of $V$ and the last fragment $H_T = T$:\n",
    "\n",
    "$$\n",
    "H = \\sum_{m=0}^{N-1} H_m + H_T ,\n",
    "$$\n",
    "\n",
    "The `vibronic_fragments` utility in **Pennylane** implements the decomposition of the Hamiltonian into $N + 1$ fragments, represented by `RealspaceMatrix` objects, using the **Original Grouping (OG)** method described in the equations 7 - 9 of the paper.  \n",
    "\n",
    "\n",
    "</div>\n",
    "\n",
    "<figure style=\"width: 40%; margin: 0;\">\n",
    "  <img src=\"diagrams/fragmentation.png\" style=\"width: 70%;\"/>\n",
    "  <figcaption style=\"font-size: 0.9em; margin-top: 0.5em; width: 70%; text-align: center;\">\n",
    "    <b>Fig. 4:</b> Visualization of the Hamiltonian fragmentation process for a 4-state system. Each color for the blocks corresponds to a distinct fragment. The fragmentation preserves block-diagonality and allows each fragment to be simultaneously diagonalized using just Clifford operations. \n",
    "\n",
    "  </figcaption>\n",
    "</figure>\n",
    "\n",
    "</div>"
   ]
  },
  {
   "cell_type": "code",
   "execution_count": 6,
   "id": "bdcb8a4f",
   "metadata": {},
   "outputs": [],
   "source": [
    "if not override:\n",
    "    fragments = vibronic_fragments(N, M, freqs=omegas, taylor_coeffs=[lambdas, alphas, betas])\n",
    "    print(f'Decomposed Hamiltonian into {len(fragments)} fragments.')"
   ]
  },
  {
   "cell_type": "markdown",
   "id": "e4d83e79",
   "metadata": {},
   "source": [
    "# Single Trotter Step"
   ]
  },
  {
   "cell_type": "markdown",
   "id": "a0a69182",
   "metadata": {},
   "source": [
    "The following resource estimates are based on second-order Trotter to implement the propagator of the vibronic Hamiltonian:\n",
    "\n",
    "$$\n",
    "U_2(\\Delta t) = \\left( \\prod_{m=0}^{N-1} e^{-i H_m \\Delta t / 2} \\right) \\cdot e^{-i H_T \\Delta t} \\cdot \\left( \\prod_{m=0}^{N-1} e^{-i H_m \\Delta t / 2} \\right) \\approx e^{-i H \\Delta t} + \\mathcal{O}(\\Delta t^3) \n",
    "$$\n",
    "\n",
    "where:\n",
    "- $\\{H_m\\}_{m=0}^{N-1}$ are the **potential energy fragments**,\n",
    "- $H_T$ is the **kinetic energy fragment**,\n",
    "- $\\Delta t$ is the Trotter step size.\n",
    "\n",
    "Hence, we can implement a single Trotter step by implementing propagators of the potential energy and the kinetic energy fragments.\n",
    "\n",
    "### Cost Metric\n",
    "\n",
    "We take the Toffoli gate count, alongside qubit count, as our primary cost metric because the Toffoli, being a non Clifford gate, is a resource-intensive component in many quantum error correction schemes. Clifford gates can be implemented cheaply in many fault-tolerant architectures.\n",
    "\n",
    "Moreover, Toffoli‐based constructions are used for the arithmetic and modular‐arithmetic subroutines (e.g., adders, squaring, multiplier circuits) in quantum chemistry and optimization routines, thus, minimizing Toffoli count directly reduces the distillation workload and overall circuit depth. "
   ]
  },
  {
   "cell_type": "code",
   "execution_count": 7,
   "id": "e2550b94",
   "metadata": {},
   "outputs": [],
   "source": [
    "my_gs = {'X', 'Z', 'Y', 'S', 'Hadamard', 'CNOT', 'T'}\n",
    "\n",
    "def print_Qubit_Toff(resources):\n",
    "    '''Function for printing the resources for a circuit'''\n",
    "    qubit_count = resources.qubit_manager.total_qubits\n",
    "    toffoli_count = resources.clean_gate_counts.get(\"T\", 0)\n",
    "    \n",
    "    if toffoli_count > 9999:\n",
    "        toffoli_count = f\"{toffoli_count:.3E}\"\n",
    "    \n",
    "    print(f'Qubit Count = {qubit_count}')\n",
    "    print(f'T Count = {toffoli_count}')"
   ]
  },
  {
   "cell_type": "markdown",
   "id": "1394d12b",
   "metadata": {},
   "source": [
    "## Potential Part\n",
    "Implementing each block-diagonalized potential fragment $ e^{iH_m} = \\sum_j \\ket{j}\\bra{j} \\otimes e^{i V_{jj}^m} $ is equal to implementing\n",
    "\n",
    "$$\n",
    "\\prod_{|\\vec{\\alpha}| \\leq d} \\sum_{j,\\boldsymbol{x}} \\ket{j}\\bra{j} \\otimes \\ket{\\boldsymbol{x}}\\bra{\\boldsymbol{x}} \\cdot \\exp\\left(i \\Delta^{|\\vec{\\boldsymbol{\\alpha}}|} \\cdot c_{\\vec{\\boldsymbol{\\alpha}}}^{(j,j)}\\, \\boldsymbol{x}^{\\vec{\\boldsymbol{\\alpha}}}\\right)\n",
    "$$ \n",
    "\n",
    "\n",
    "Each term $\\sum_{j,\\boldsymbol{x}} \\ket{j}\\bra{j} \\otimes \\ket{\\boldsymbol{x}}\\bra{\\boldsymbol{x}} \\cdot \\exp\\left(i \\Delta^{|\\vec{\\boldsymbol{\\alpha}}|} \\cdot c_{\\vec{\\boldsymbol{\\alpha}}}^{(j,j)}\\, \\boldsymbol{x}^{\\vec{\\boldsymbol{\\alpha}}}\\right)$ can be implemented using the steps outlined between equations 10-11 in the paper.\n",
    "\n"
   ]
  },
  {
   "cell_type": "markdown",
   "id": "13f6688f",
   "metadata": {},
   "source": [
    "### For Model systems\n",
    "In many practical vibronic Hamiltonians, including the systems used for for resource estimation here, each potential fragment $H_m$ contains non trivial coefficients only for ($Q_r$) and ($Q_r^2$) terms. That is, the vibrational part of each fragment is of the form:\n",
    "\n",
    "$$\n",
    "V_{ji}^m = \\sum_r c_r Q_r + \\sum_r \\tilde{c}_r Q_r^2,\n",
    "$$\n",
    "\n",
    "Each exponential term of the form $\\exp(i \\Delta \\cdot c_r x_r)$ or $\\exp(i \\Delta^2 \\cdot \\tilde{c}_r x_r^2)$ is implemented by:\n",
    "\n",
    "1. Loading the coefficient, $\\Delta \\cdot c_r$ or $\\Delta^2 \\cdot \\tilde{c}_r$ , into an ancillary register using QROM, controlled by the electronic state.\n",
    "2. Computing the $x_r^2$ (for $Q_r^2$ terms) using a Squaring gate from the mode register to the scratch register, instead of the Multiplication gate used in the general case.\n",
    "3. Multiplying $x_r$ or $x_r^2$ with the coefficient and adding to the resource register to accumulate the phase using a Modular Multiplication gate.\n",
    "4. Uncomputing all intermediate results to reuse the registers.\n",
    "\n",
    "This structure is reflected in the circuit diagrams:\n",
    "- **Figure 5** shows a circuit implementation for a term of the form $\\sum_j \\ket{j}\\bra{j}\\otimes  \\exp\\left(i \\Delta^2 \\tilde{c}_r(j) x_r^2\\right)$\n",
    "- **Figure 6** shows the the construction of the Modular Multiplication gate using controlled in-place additions."
   ]
  },
  {
   "cell_type": "markdown",
   "id": "bf76528b",
   "metadata": {},
   "source": [
    "<table border=\"0\">\n",
    "<tr>\n",
    "\n",
    "<td align=\"center\" valign=\"top\">\n",
    "  <img src=\"diagrams/circuit1.png\" height=\"300\"><br>\n",
    "  <b>Fig.&nbsp;5:</b> Quantum circuit for implementing potential-energy fragments.\n",
    "</td>\n",
    "\n",
    "</tr>\n",
    "</table>"
   ]
  },
  {
   "cell_type": "markdown",
   "id": "4ac3e8af",
   "metadata": {},
   "source": [
    "### Ancilla state prep\n",
    "\n",
    "`ResourcePhaseGradient` prepares the resource state used for the implementing a $b$-qubit phase gradient operation, defined as $\\sum_{y=0}^{2^b -1} e^{i 2\\pi y/2^b} \\ket{y}\\bra{y}$. It is performed via modular addition to a register holding the resource state:\n",
    "\n",
    "$$\n",
    "|R\\rangle = \\sum_{j=0}^{2^b-1} e^{2\\pi i j / 2^b} |j\\rangle.\n",
    "$$\n",
    "\n",
    "The resource state only needs to be prepared once at the beginning of the algorithm and is re-used throughout the entire computation. We use `b = 20` for a precision of $10^{-6}$ in the phase added using the phase gradient in the algorithm."
   ]
  },
  {
   "cell_type": "code",
   "execution_count": 8,
   "id": "d6ef8edf",
   "metadata": {},
   "outputs": [
    {
     "name": "stdout",
     "output_type": "stream",
     "text": [
      "--- Resources: ---\n",
      " Total qubits: 20\n",
      " Total gates : 1.125E+3\n",
      " Qubit breakdown:\n",
      "  clean qubits: 0, dirty qubits: 0, algorithmic qubits: 20\n",
      " Gate breakdown:\n",
      "  {'Z': 1, 'S': 1, 'T': 1.123E+3}\n"
     ]
    }
   ],
   "source": [
    "b = 20\n",
    "phase_grad_wires = [f\"pg_{i}\" for i in range(b)]\n",
    "\n",
    "def initial_circ():\n",
    "    re.ResourcePhaseGradient(num_wires=b, wires=phase_grad_wires)\n",
    "\n",
    "# We change the default single qubit rotation precision to 1e-15 so that the error\n",
    "# from the roations can be neglected for error in the phase added.\n",
    "epsilon = 1e-15\n",
    "\n",
    "res_initial = re.estimate_resources(\n",
    "    initial_circ, \n",
    "    gate_set=my_gs, \n",
    "    single_qubit_rotation_error=epsilon,\n",
    ")()\n",
    "\n",
    "print(res_initial)"
   ]
  },
  {
   "cell_type": "markdown",
   "id": "6a386d7e",
   "metadata": {},
   "source": [
    "Estimating the cost of implementing linear $Q_r$ terms:"
   ]
  },
  {
   "cell_type": "code",
   "execution_count": 9,
   "id": "f98e89b3",
   "metadata": {},
   "outputs": [
    {
     "name": "stdout",
     "output_type": "stream",
     "text": [
      "Qubit Count = 146\n",
      "T Count = 568\n"
     ]
    }
   ],
   "source": [
    "clean_factor = False\n",
    "\n",
    "electronic_wires = [f\"e_{i}\" for i in range(log_N)]\n",
    "coeff_wires = [f\"c_{i}\" for i in range(b)]\n",
    "total_mode_wires = [f\"m_{i}\" for i in range(k*M)]\n",
    "mode_wires = total_mode_wires[:k]\n",
    "scratch_wires = [f\"s_{i}\" for i in range(2*k)] \n",
    "\n",
    "def Q_cir():\n",
    "    re.ResourceQROM(num_bitstrings=log_N, size_bitstring=b, clean=clean_factor, wires=electronic_wires + coeff_wires)\n",
    "\n",
    "    for i in range(k):\n",
    "        ctrl_wire = [mode_wires[i]]\n",
    "        target_wires = coeff_wires[:b-i] + phase_grad_wires[:b-i]\n",
    "        re.ResourceControlled(re.ResourceSemiAdder(max_register_size=b - i), num_ctrl_wires=1, num_ctrl_values=0, wires=target_wires+ctrl_wire)\n",
    "\n",
    "    re.ResourceAdjoint(re.ResourceQROM(num_bitstrings=log_N, size_bitstring=b, clean=clean_factor, wires=electronic_wires + coeff_wires))\n",
    "     \n",
    "    re.ResourceIdentity(wires = scratch_wires + total_mode_wires[k:])\n",
    "    \n",
    "\n",
    "res_Q = re.estimate_resources(Q_cir, gate_set=my_gs)()\n",
    "print_Qubit_Toff(res_Q)"
   ]
  },
  {
   "cell_type": "markdown",
   "id": "ce8d4a71",
   "metadata": {},
   "source": [
    "<table border=\"0\">\n",
    "<tr>\n",
    "\n",
    "<td align=\"center\" valign=\"top\">\n",
    "  <img src=\"diagrams/circuit2.png\" height=\"300\"><br>\n",
    "  <b>Fig.&nbsp;6:</b> Mult (Modular) Gate construction.\n",
    "</td>\n",
    "\n",
    "\n",
    "</tr>\n",
    "</table>"
   ]
  },
  {
   "cell_type": "markdown",
   "id": "feb58eee",
   "metadata": {},
   "source": [
    "Estimate the cost of implementing quadratic $Q_r^2$ terms:"
   ]
  },
  {
   "cell_type": "code",
   "execution_count": 10,
   "id": "e8dae52c",
   "metadata": {},
   "outputs": [
    {
     "name": "stdout",
     "output_type": "stream",
     "text": [
      "Qubit Count = 146\n",
      "T Count = 1072\n"
     ]
    }
   ],
   "source": [
    "def Qsquared_cir():\n",
    "    re.ResourceQROM(num_bitstrings=log_N, size_bitstring=b, clean=clean_factor, wires=electronic_wires + coeff_wires)\n",
    "\n",
    "    re.ResourceOutOfPlaceSquare(register_size=k, wires=scratch_wires+mode_wires)\n",
    "\n",
    "    for i in range(2*k):\n",
    "        ctrl_wire = [f\"s_{i}\"]\n",
    "        target_wires = coeff_wires[:b-i] + phase_grad_wires[:b-i]\n",
    "        re.ResourceControlled(re.ResourceSemiAdder(max_register_size=b - i), num_ctrl_wires=1, num_ctrl_values=0, wires=target_wires + ctrl_wire)\n",
    "\n",
    "    re.ResourceAdjoint(re.ResourceOutOfPlaceSquare(register_size=k, wires=scratch_wires+mode_wires))\n",
    "\n",
    "    re.ResourceAdjoint(re.ResourceQROM(num_bitstrings=log_N, size_bitstring=b, clean=clean_factor, wires=electronic_wires + coeff_wires))\n",
    "\n",
    "    re.ResourceIdentity(wires = total_mode_wires[k:])\n",
    "\n",
    "res_Qsquared = re.estimate_resources(Qsquared_cir, gate_set=my_gs)()\n",
    "print_Qubit_Toff(res_Qsquared)"
   ]
  },
  {
   "cell_type": "markdown",
   "id": "ba216eb2",
   "metadata": {},
   "source": [
    "The `count_nonzero_Q_terms` function counts the number of $Q_r$ and  $Q_r^2$ terms over all fragments. These counts determine how many times the circuits `Q_cir` and `Qsquared_cir` will be required for implementing all the fragments of the potential part.\n"
   ]
  },
  {
   "cell_type": "code",
   "execution_count": 11,
   "id": "f065dd16",
   "metadata": {},
   "outputs": [],
   "source": [
    "def count_nonzero_Q_terms(matrix, threshold=1e-8):\n",
    "    Q_modes = set()\n",
    "    QQ_modes = set()\n",
    "\n",
    "    for rs_sum in matrix._blocks.values():\n",
    "        for op in rs_sum.ops:\n",
    "            if op.ops == (\"Q\",):\n",
    "                for index, val in op.coeffs.nonzero(threshold).items():\n",
    "                    Q_modes.add(index[0])\n",
    "            elif op.ops == (\"Q\", \"Q\"):\n",
    "                for index, val in op.coeffs.nonzero(threshold).items():\n",
    "                    QQ_modes.add(tuple(index))\n",
    "\n",
    "    return  Q_modes, QQ_modes\n",
    "\n",
    "if not override:\n",
    "    num_Q = 0\n",
    "    num_QQ = 0\n",
    "    for i in range(len(fragments)):\n",
    "        l,q = count_nonzero_Q_terms(fragments[i])\n",
    "        print(f'Fragment {i+1} has {len(l)} Q_i terms and {len(q)} Q_i^2 terms.')\n",
    "        num_Q += len(l)\n",
    "        num_QQ += len(q)\n",
    "    print(f'Total number of Q terms: {num_Q}, Total number of Q^2 terms: {num_QQ}')"
   ]
  },
  {
   "cell_type": "markdown",
   "id": "b8d4c7f8",
   "metadata": {},
   "source": [
    "So multiplying the number of $Q_r$ and  $Q_r^2$ terms over all fragments by the cost of the circuits `Q_cir` and `Qsquared_cir` to get the T gate count of the potential part."
   ]
  },
  {
   "cell_type": "code",
   "execution_count": 12,
   "id": "42d9ec90",
   "metadata": {},
   "outputs": [
    {
     "ename": "NameError",
     "evalue": "name 'num_Q' is not defined",
     "output_type": "error",
     "traceback": [
      "\u001b[31m---------------------------------------------------------------------------\u001b[39m",
      "\u001b[31mNameError\u001b[39m                                 Traceback (most recent call last)",
      "\u001b[36mCell\u001b[39m\u001b[36m \u001b[39m\u001b[32mIn[12]\u001b[39m\u001b[32m, line 1\u001b[39m\n\u001b[32m----> \u001b[39m\u001b[32m1\u001b[39m res_Potential = \u001b[43mnum_Q\u001b[49m *res_Q + num_QQ *res_Qsquared\n\u001b[32m      2\u001b[39m print_Qubit_Toff(res_Potential)\n",
      "\u001b[31mNameError\u001b[39m: name 'num_Q' is not defined"
     ]
    }
   ],
   "source": [
    "res_Potential = num_Q *res_Q + num_QQ *res_Qsquared\n",
    "print_Qubit_Toff(res_Potential)"
   ]
  },
  {
   "cell_type": "markdown",
   "id": "4fa1da55",
   "metadata": {},
   "source": [
    "## Kinetic Part"
   ]
  },
  {
   "cell_type": "markdown",
   "id": "d158208b",
   "metadata": {},
   "source": [
    "We can use QFTs(Quantum Fourier Transforms) to diagonalize the momentum operator. In the discretized basis:\n",
    "\n",
    "$$\n",
    "P = \\text{QFT}^\\dagger \\cdot X_{k-1} \\cdot Q \\cdot X_{k-1} \\cdot \\text{QFT},\n",
    "$$\n",
    "\n",
    "where $X_{k-1}$ is an  $X$ gate on the most significant qubit. Each $P_r^2$ term in the fourier basis can be simulated as a  $Q_r^2$ term in the position basis."
   ]
  },
  {
   "cell_type": "code",
   "execution_count": 13,
   "id": "75c8ea50",
   "metadata": {},
   "outputs": [],
   "source": [
    "'''\n",
    "We use a different implementation of the QFT algorithm which is more resource efficient than\n",
    "the default textbook implemention used in Pennylane Resource Estimation,\n",
    "This comes from <https://arxiv.org/abs/1803.04933v2>.\n",
    "'''\n",
    "\n",
    "def AQFT_resource_decomp(num_wires, **kwargs):\n",
    "    ceil_log_n = math.ceil(math.log2(num_wires))\n",
    "    aux_qubit_count = num_wires + 3*ceil_log_n - 4  # (Section IV. )\n",
    "    \n",
    "    toff = re.ResourceT.resource_rep()\n",
    "    toff_count = 8 * num_wires*(ceil_log_n - 1)\n",
    "\n",
    "    gate_list = [\n",
    "        re.AllocWires(aux_qubit_count),\n",
    "        re.GateCount(toff, toff_count),\n",
    "        re.FreeWires(aux_qubit_count),\n",
    "    ]\n",
    "    return gate_list\n",
    "\n",
    "re.ResourceQFT.set_resources(AQFT_resource_decomp)\n",
    "# re.ResourceQFT.set_resources(re.ResourceQFT.default_resource_decomp)  # reset to default QFT cost"
   ]
  },
  {
   "cell_type": "code",
   "execution_count": 14,
   "id": "e89dc198",
   "metadata": {},
   "outputs": [
    {
     "name": "stdout",
     "output_type": "stream",
     "text": [
      "Qubit Count = 146\n",
      "T Count = 2.143E+04\n"
     ]
    }
   ],
   "source": [
    "def kinetic_cir():\n",
    "    for i in range(M):\n",
    "        re.ResourceQFT(num_wires=k, wires=total_mode_wires[i*k: k*(i + 1)])\n",
    "\n",
    "    for i in range(M):\n",
    "        mode_wires = total_mode_wires[i*k: k*(i + 1)]\n",
    "        re.ResourceOutOfPlaceSquare(register_size=k, wires=mode_wires+scratch_wires)\n",
    "\n",
    "        for j in range(2*k):\n",
    "            ctrl_wire = [f\"s_{j}\"]\n",
    "            target_wires = coeff_wires[:b-j] + phase_grad_wires[:b-j]\n",
    "            re.ResourceControlled(re.ResourceSemiAdder(max_register_size=b - j), num_ctrl_wires=1, num_ctrl_values=0, wires=target_wires + ctrl_wire)\n",
    "\n",
    "        re.ResourceAdjoint(re.ResourceOutOfPlaceSquare(register_size=k, wires=mode_wires+scratch_wires))\n",
    "\n",
    "    for i in range(M):\n",
    "        re.ResourceAdjoint(re.ResourceQFT(num_wires=k), wires=total_mode_wires[i*k: k*(i + 1)])\n",
    "\n",
    "    re.ResourceIdentity(wires=electronic_wires)\n",
    "\n",
    "res_kinetic = re.estimate_resources(kinetic_cir, gate_set=my_gs)()\n",
    "print_Qubit_Toff(res_kinetic)"
   ]
  },
  {
   "cell_type": "markdown",
   "id": "f5491b0d",
   "metadata": {},
   "source": [
    "## Trotter Step Total Cost"
   ]
  },
  {
   "cell_type": "markdown",
   "id": "06d68e27",
   "metadata": {},
   "source": [
    "For each second order Trotter step, all potential energy fragments $H_m$ are applied **twice**, each for **half the time**, and the kinetic energy fragment $H_T$ is applied once."
   ]
  },
  {
   "cell_type": "code",
   "execution_count": 15,
   "id": "d483cf6c",
   "metadata": {},
   "outputs": [],
   "source": [
    "if not override:\n",
    "    res_step = res_kinetic + 2*res_Potential\n",
    "    print_Qubit_Toff(res_step)"
   ]
  },
  {
   "cell_type": "markdown",
   "id": "12d1b667",
   "metadata": {},
   "source": [
    "### New Fragmentation Schemes\n",
    "\n",
    "In trotterized quantum simulation, the way we fragment the Hamiltonian directly affects both the simulation cost and the accuracy of the evolution. The Original Grouping (OG) method may not minimize gate counts for simulation of every system of interest, so we present an alternative method of fragmentation. In particular, **each mode may be implemented multiple times** in the OG method, leading to high repetition of resource-intensive subroutines.\n",
    "\n",
    "To address this, A system with $p$ vibrational modes can be fragmented such that each vibrational mode contributes two types of fragments: one involving $Q_r$ and another involving $Q_r^2$. The first $M$ fragments correspond to the linear terms:\n",
    "\n",
    "$$\n",
    "H^{(r)} = \\sum_{i,j} h_{ij}^{(r)}\\, \\ket{i}\\bra{j} \\otimes Q_r, \\qquad r = 1,\\ldots,M,\n",
    "$$\n",
    "\n",
    "and the next $M$ fragments correspond to the quadratic terms:\n",
    "\n",
    "$$\n",
    "H^{(M + r)} = \\sum_{i,j} h_{ij}^{(M +r)}\\, \\ket{i}\\bra{j} \\otimes Q_r^2, \\qquad r = 1,\\ldots,M.\n",
    "$$\n",
    "\n",
    "Since each $Q_r$ and $Q_r^2$ appears exactly once in the fragments, this guarantees that the linear and quadratic circuits per Trotter step, as discussed in the next section, are optimal.\n",
    "\n",
    "Next, we combine multiple such fragments into a single fragment to reduce the number of terms without increasing the number of linear and quadratic circuits per Trotter step.\n",
    "If $H_e^{(r)}$ and $H_e^{(s)}$ commute, they can be simultaneously diagonalized by a unitary transformation $U$. Consequently, the combined fragment can be block-diagonalized in the electronic subspace by the same unitary $U$. Hence, A sufficient condition for two fragments $H^{(r)}$ and $H^{(s)}$ to be combined is that their electronic parts commute."
   ]
  },
  {
   "cell_type": "code",
   "execution_count": 16,
   "id": "fd0721c9",
   "metadata": {},
   "outputs": [
    {
     "name": "stdout",
     "output_type": "stream",
     "text": [
      "Qubit Count = 146\n",
      "T Count = 3.116E+04\n"
     ]
    }
   ],
   "source": [
    "res_Potential_Mode_Based = M *res_Q + M *res_Qsquared\n",
    "print_Qubit_Toff(res_Potential_Mode_Based)"
   ]
  },
  {
   "cell_type": "code",
   "execution_count": 17,
   "id": "bc003eb8",
   "metadata": {},
   "outputs": [
    {
     "name": "stdout",
     "output_type": "stream",
     "text": [
      "Qubit Count = 146\n",
      "T Count = 8.375E+04\n"
     ]
    }
   ],
   "source": [
    "res_step_Mode_Based = res_kinetic + 2*res_Potential_Mode_Based\n",
    "print_Qubit_Toff(res_step_Mode_Based)"
   ]
  },
  {
   "cell_type": "markdown",
   "id": "60e0c2f8",
   "metadata": {},
   "source": [
    "# Number of Trotter Steps"
   ]
  },
  {
   "cell_type": "markdown",
   "id": "4c9d991a",
   "metadata": {},
   "source": [
    "The algorithm uses the **second-order Trotter–Suzuki formula** to approximate time evolution under the full Hamiltonian $H = \\sum_{m=0}^{L} H_m$. This corresponds to evolution under an **effective Hamiltonian**:\n",
    "\n",
    "$$\n",
    "U(\\Delta t) = e^{i H_{\\text{eff}} \\Delta t}, \\quad \\text{where} \\quad H_{\\text{eff}} = H + \\hat{\\epsilon}.\n",
    "$$\n",
    "\n",
    "The leading-order error operator $\\epsilon$ for the second-order formula scales as:\n",
    "\n",
    "$$\n",
    "\\epsilon = -\\frac{\\Delta t^2}{24} \\sum_{i=1}^{L-1} \\sum_{j=i+1}^{L} \\left[H_i + 2 \\sum_{k=j+1}^L H_k, [H_i, H_j] \\right] + \\mathcal{O}(\\Delta t^4).\n",
    "$$\n",
    "\n",
    "\n",
    "In the Pennylane resource estimation framework, the effective Hamiltonian $H_{\\text{eff}}$ is constructed explicitly from building the the error operator using the `trotter_error.trotter_error` module in Pennylane and adding it to the sum of the vibronic fragments."
   ]
  },
  {
   "cell_type": "code",
   "execution_count": 18,
   "id": "ba6baf3c",
   "metadata": {},
   "outputs": [],
   "source": [
    "sim_deltaT = 0.1\n",
    "sim_time = 100 # in femtoseconds, time that we ran mctdh jobs for.\n",
    "\n",
    "total_time = 100 # in femtosectonds, time that we want to get the cost for.\n",
    "\n",
    "# err = trotter_error(fragments, sim_deltaT)\n",
    "# h_op = sum(fragments, RealspaceMatrix.zero(states=2**log_N, modes=M))\n",
    "# h_eff = h_op + err"
   ]
  },
  {
   "cell_type": "markdown",
   "id": "040cfd5a",
   "metadata": {},
   "source": [
    "To quantify the Trotter error, we first to do full \"standard method\" quantum dynamics for both the **exact Hamiltonian** $H$ and the **effective Hamiltonian** $H_{\\text{eff}}$ for **reduced dimensionality systems** (e.g., 1–6 modes) using numerically exact simulations.\n",
    "\n",
    "The error in the state population at a particular time is given by the difference between state populations in the two evolutions.\n",
    "\n",
    "Once we have the Trotter errors for small subsystems, we can extrapolate to larger systems to estimate the number of steps required to reach a target error $\\varepsilon$\n",
    "\n",
    "To apply this in practice, we simulate systems with increasing number of modes (e.g., 1 to 6) for a chosen `deltaT`(e.g. $\\Delta t =0.1$), calculate the maximum error across all states and over total time, and **fit an extrapolation curve** for error vs. number of modes. \n",
    "This allows us to estimate the error we would expect in the **full model** (e.g., 11-mode Anthra-$C_{60}$ system).\n",
    "\n"
   ]
  },
  {
   "cell_type": "markdown",
   "id": "38c664e0",
   "metadata": {},
   "source": [
    "<table border=\"0\">\n",
    "<tr>\n",
    "\n",
    "<td align=\"center\" valign=\"top\">\n",
    "  <img src=\"diagrams/extrapolation.png\" height=\"300\"><br>\n",
    "  <b>Fig.&nbsp;7:</b> Error extrapolation for 11-mode Anthra-C/60 system.\n",
    "</td>\n",
    "\n",
    "</tr>\n",
    "</table>"
   ]
  },
  {
   "cell_type": "code",
   "execution_count": 19,
   "id": "9c543d84",
   "metadata": {},
   "outputs": [
    {
     "name": "stdout",
     "output_type": "stream",
     "text": [
      "0.0026229687619047865\n"
     ]
    }
   ],
   "source": [
    "def extrapolated_error(mol, fragmentation, sim_time):\n",
    "    errors = {\n",
    "        (\"n4o4a_sf\",            \"OG\",         100): 2.622e-3,\n",
    "        (\"n4o4a_sf\",            \"Mode-Based\", 100): 2.849e-3,\n",
    "        (\"n4o4a_ts\",            \"OG\",         100): 1.231e-4,\n",
    "        (\"n4o4a_ts\",            \"Mode-Based\", 100): 1.935e-4,\n",
    "        (\"anthra-c60_ct_M=11\",  \"OG\",         100): 3.02e-5,\n",
    "        (\"anthra-c60_ct_M=11\",  \"Mode-Based\", 100): 3.02e-5,\n",
    "        (\"anthra-c60_ct_M=246\", \"OG\",         100): 9.78-5,\n",
    "        (\"anthra-c60_ct_M=246\", \"Mode-Based\", 100): 9.78e-5,\n",
    "        (\"n4o4a_ts\",            \"OG\",         500): 8.113e-4,\n",
    "        (\"n4o4a_ts\",            \"Mode-Based\", 500): 7.395e-4,\n",
    "    }\n",
    "\n",
    "    error = errors.get((mol, fragmentation, sim_time))\n",
    "    print(\n",
    "        f\"Trotter error for a {sim_time} fs simulation with deltaT = {sim_deltaT}, \"\n",
    "        f\"using {fragmentation} fragmentation is {error}.\"\n",
    "    )\n",
    "    return error\n",
    "\n",
    "# fragmentation = 'OG'\n",
    "fragmentation = 'Mode-Based'\n",
    "\n",
    "# sim_error = extrapolated_error(mol, fragmentation, sim_time)\n",
    "\n",
    "def extrapolated_error_calc(mol, fragmentation, sim_time):\n",
    "    fit = {\n",
    "        (\"n4o4a_sf\",            \"OG\",         100): (0.0001649425714285581, -0.00028532066666662185),\n",
    "        (\"n4o4a_sf\",            \"Mode-Based\", 100): (0.00015014228571428746, -0.0002297346666666753),\n",
    "        (\"n4o4a_ts\",            \"OG\",         100): (4.750857142855247e-06, 2.337866666669218e-05),\n",
    "        (\"n4o4a_ts\",            \"Mode-Based\", 100): (7.396285714288627e-06, 3.81813333333379e-05),\n",
    "        (\"anthra-c60_ct_M=11\",  \"OG\",         100): (2.877e-7, 2.704e-5),\n",
    "        (\"anthra-c60_ct_M=11\",  \"Mode-Based\", 100): (2.877e-7, 2.704e-5),\n",
    "        (\"anthra-c60_ct_M=246\", \"OG\",         100): (2.877e-7, 2.704e-5),\n",
    "        (\"anthra-c60_ct_M=246\", \"Mode-Based\", 100): (2.877e-7, 2.704e-5),\n",
    "    }\n",
    "    \n",
    "    a, b = fit.get((mol, fragmentation, sim_time))\n",
    "    return a*M + b\n",
    "\n",
    "sim_error = extrapolated_error_calc(mol, fragmentation, sim_time)*total_time/sim_time\n",
    "print(sim_error)"
   ]
  },
  {
   "cell_type": "markdown",
   "id": "c9b21a6d",
   "metadata": {},
   "source": [
    "### Solving for $\\Delta t$ Given an Error Tolerance\n",
    "\n",
    "Suppose we know that using a step size $\\Delta t_1$ gives global error $\\varepsilon_1$ for a simulation time t. We want to choose a new step size $\\Delta t_2$ such that the global error is reduced to $\\varepsilon_2$ for the same simulation time t.\n",
    "\n",
    "Using the quadratic scaling:\n",
    "\n",
    "$$\n",
    "\\varepsilon \\propto \\Delta t^2 \\quad \\Rightarrow \\quad \\frac{\\varepsilon_2}{\\varepsilon_1} = \\left( \\frac{\\Delta t_2}{\\Delta t_1} \\right)^2\n",
    "$$\n",
    "\n",
    "Solving for $\\Delta t_2$ gives:\n",
    "\n",
    "$$\n",
    "\\Delta t_2 = \\Delta t_1 \\cdot \\sqrt{ \\frac{\\varepsilon_2}{\\varepsilon_1} }.\n",
    "$$\n",
    "\n",
    "Once $\\Delta t_2$ is known, the required number of steps is:\n",
    "\n",
    "$$\n",
    "n_2 = \\frac{t}{\\Delta t_2} = \\frac{t}{\\Delta t_1} \\cdot \\sqrt{ \\frac{\\varepsilon_1}{\\varepsilon_2}}.\n",
    "$$"
   ]
  },
  {
   "cell_type": "code",
   "execution_count": 20,
   "id": "af2b928f",
   "metadata": {},
   "outputs": [
    {
     "name": "stdout",
     "output_type": "stream",
     "text": [
      "513 Trotter steps are required for a 1.0% error tolerance for simulation of the hamiltonian decomposed by the Mode-Based fragmentation scheme for 100fs.\n"
     ]
    }
   ],
   "source": [
    "def num_steps(req_error, sim_error, sim_deltaT, total_time):\n",
    "    return math.ceil(total_time / sim_deltaT * (sim_error / req_error)**0.5)\n",
    "\n",
    "req_error = 0.01 # 1 percent error\n",
    "nsteps = num_steps(req_error, sim_error, sim_deltaT, total_time)\n",
    "\n",
    "print(f'{nsteps} Trotter steps are required for a {100*req_error}% error tolerance for simulation of the hamiltonian decomposed by the {fragmentation} fragmentation scheme for {total_time}fs.')"
   ]
  },
  {
   "cell_type": "code",
   "execution_count": 21,
   "id": "5f8bd3b2",
   "metadata": {},
   "outputs": [
    {
     "name": "stdout",
     "output_type": "stream",
     "text": [
      "Qubit Count = 146\n",
      "T Count = 4.297E+07\n"
     ]
    }
   ],
   "source": [
    "if fragmentation == 'OG':\n",
    "    res_total = res_initial + nsteps * res_step\n",
    "if fragmentation == 'Mode-Based':\n",
    "    res_total = res_initial + nsteps * res_step_Mode_Based\n",
    "\n",
    "print_Qubit_Toff(res_total)"
   ]
  },
  {
   "cell_type": "markdown",
   "id": "935c2df7",
   "metadata": {},
   "source": [
    "# Results"
   ]
  },
  {
   "cell_type": "markdown",
   "id": "b07f7ed4",
   "metadata": {},
   "source": [
    "The estimated implementation costs of our quantum algorithm for the systems of interest are:\n",
    "\n",
    "| **System**                              | **N** | **M** | **Time (fs)** | **Error** | **Qubit Count** | **Step Toffoli Count** (OG) | **Step Toffoli Count** (Mode Based) | **Number of Steps** (OG) | **Number of Steps** (Mode Based) | **Total Toffoli Count** (OG) | **Total Toffoli Count** (Mode Based) |\n",
    "|----------------------------------------|-------|-------|------------|--------------------------|------------|------------------------|--------------------------|----------------------|------------------------|----------------------|------------------------|\n",
    "| (NO)₄-Anth                             | 5     | 19    | 100        | 10%                       | 146        | $3.37 \\times 10^{4}$   | $8.98 \\times 10^{4}$     |        162       |       169          | $5.47 \\times 10^{6}$ |  $3.54 \\times 10^{6}$ |\n",
    "| (NO)₄-Anth                             | 5     | 19    | 100        | 1%                       | 146        | $3.37 \\times 10^{4}$   | $2.09 \\times 10^{4}$     | 513                  | 534                    | $1.73 \\times 10^{7}$ | $1.11 \\times 10^{7}$   |\n",
    "| (NO)₄-Anth Dimer                       | 6     | 21    | 100        | 1%                       | 154        | $2.48 \\times 10^{4}$   | $2.31 \\times 10^{4}$     | 111                  | 140                    | $2.76 \\times 10^{6}$ | $3.24 \\times 10^{6}$   |\n",
    "| (NO)₄-Anth Dimer                       | 6     | 21    | 500        | 1%                       | 154        | $2.48 \\times 10^{4}$   | $2.31 \\times 10^{4}$     |  1425                | 1360           | $3.54 \\times 10^{7}$         | $3.15 \\times 10^{7}$ | \n",
    "| Anth/$C_{60}$ (reduced dimensionality) | 4     | 11    | 100        | 1%                       | 113        | $1.20 \\times 10^{4}$   | $1.20 \\times 10^{4}$     | 55                   | 55                     | $6.62 \\times 10^{5}$ | $6.62 \\times 10^{5}$   |\n",
    "| Anth/$C_{60}$ (full dimensionality)    | 4     | 246   | 100        | 1%                       | 1053       | $1.16 \\times 10^{6}$   | $1.16 \\times 10^{6}$     | 99                   | 99                     | $2.66 \\times 10^{7}$ | $2.66 \\times 10^{7}$   |"
   ]
  }
 ],
 "metadata": {
  "kernelspec": {
   "display_name": "Python 3 (ipykernel)",
   "language": "python",
   "name": "python3"
  },
  "language_info": {
   "codemirror_mode": {
    "name": "ipython",
    "version": 3
   },
   "file_extension": ".py",
   "mimetype": "text/x-python",
   "name": "python",
   "nbconvert_exporter": "python",
   "pygments_lexer": "ipython3",
   "version": "3.13.3"
  }
 },
 "nbformat": 4,
 "nbformat_minor": 5
}
